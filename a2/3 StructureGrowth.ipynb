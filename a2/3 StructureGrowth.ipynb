{
 "cells": [
  {
   "cell_type": "code",
   "execution_count": 3,
   "metadata": {},
   "outputs": [
    {
     "name": "stdout",
     "output_type": "stream",
     "text": [
      "Original seed: 42\n"
     ]
    }
   ],
   "source": [
    "import numpy as np\n",
    "import NR_a2_1_utils as utils1\n",
    "import NR_a2_3_utils as utils3\n",
    "from matplotlib import pyplot as plt\n",
    "from importlib import reload\n",
    "from scipy import stats\n",
    "reload(utils1)\n",
    "reload(utils3)\n",
    "seed = 42\n",
    "print('Original seed:',seed)\n",
    "rng = utils1.rng(seed)"
   ]
  },
  {
   "cell_type": "code",
   "execution_count": 31,
   "metadata": {},
   "outputs": [
    {
     "name": "stdout",
     "output_type": "stream",
     "text": [
      "-66.67316677501267\n",
      "12.532641373155363\n"
     ]
    },
    {
     "data": {
      "image/png": "[encoded data removed]",
      "text/plain": [
       "<Figure size 432x288 with 1 Axes>"
      ]
     },
     "metadata": {
      "needs_background": "light"
     },
     "output_type": "display_data"
    }
   ],
   "source": [
    "reload(utils3)\n",
    "ode = lambda y,t : -y\n",
    "ode_int = utils3.runge_kutta(0,10,ode,10)\n",
    "print(ode_int)\n",
    "reload(utils3)\n",
    "ode = lambda y,t : -y*t\n",
    "ode_int = utils3.runge_kutta(0,10,ode,10)\n",
    "print(ode_int)"
   ]
  },
  {
   "cell_type": "code",
   "execution_count": 44,
   "metadata": {},
   "outputs": [
    {
     "name": "stderr",
     "output_type": "stream",
     "text": [
      "/software/local/lib64/python3.7/site-packages/ipykernel_launcher.py:2: RuntimeWarning: overflow encountered in double_scalars\n",
      "  \n",
      "/software/local/lib64/python3.7/site-packages/ipykernel_launcher.py:2: RuntimeWarning: invalid value encountered in double_scalars\n",
      "  \n",
      "/software/local/lib64/python3.7/site-packages/numpy/core/fromnumeric.py:86: RuntimeWarning: overflow encountered in reduce\n",
      "  return ufunc.reduce(obj, axis, dtype, out, **passkwargs)\n"
     ]
    }
   ],
   "source": [
    "reload(utils3)\n",
    "f2 = lambda x1,x2,t: -4/(3*t)*x2 + 2/(3*t**2)*x1\n",
    "f1 = lambda x1,x2,t: x2\n",
    "\n",
    "x = utils3.runge_kutta2nd(3,2,1000,f1,f2)"
   ]
  },
  {
   "cell_type": "code",
   "execution_count": 45,
   "metadata": {},
   "outputs": [
    {
     "name": "stdout",
     "output_type": "stream",
     "text": [
      "inf\n"
     ]
    }
   ],
   "source": [
    "print(x)"
   ]
  },
  {
   "cell_type": "code",
   "execution_count": null,
   "metadata": {},
   "outputs": [],
   "source": []
  },
  {
   "cell_type": "code",
   "execution_count": null,
   "metadata": {},
   "outputs": [],
   "source": []
  },
  {
   "cell_type": "code",
   "execution_count": null,
   "metadata": {},
   "outputs": [],
   "source": []
  },
  {
   "cell_type": "code",
   "execution_count": null,
   "metadata": {},
   "outputs": [],
   "source": []
  }
 ],
 "metadata": {
  "kernelspec": {
   "display_name": "Python 3",
   "language": "python",
   "name": "python3"
  },
  "language_info": {
   "codemirror_mode": {
    "name": "ipython",
    "version": 3
   },
   "file_extension": ".py",
   "mimetype": "text/x-python",
   "name": "python",
   "nbconvert_exporter": "python",
   "pygments_lexer": "ipython3",
   "version": "3.7.3"
  }
 },
 "nbformat": 4,
 "nbformat_minor": 2
}
