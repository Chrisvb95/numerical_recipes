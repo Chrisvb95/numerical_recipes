{
 "cells": [
  {
   "cell_type": "code",
   "execution_count": 4,
   "metadata": {},
   "outputs": [],
   "source": [
    "import numpy as np\n",
    "import sys\n",
    "import os\n",
    "import matplotlib.pyplot as plt\n",
    "from importlib import reload\n",
    "import a2_6 as a2"
   ]
  },
  {
   "cell_type": "code",
   "execution_count": 66,
   "metadata": {},
   "outputs": [],
   "source": [
    "filename = 'GRBs.txt'\n",
    "url = 'https://home.strw.leidenuniv.nl/~nobels/coursedata/'\n",
    "if not os.path.isfile(filename):\n",
    "    print(f'File not found, downloading {filename}')\n",
    "    os.system('wget '+url+filename)\n",
    "\n",
    "data = np.genfromtxt(filename,skip_header=2,usecols = (2,3,4,5,6,7))\n",
    "data[data==-1.0] = 0\n",
    "names = np.genfromtxt(filename,skip_header=2,usecols=0,dtype=str)\n",
    "data = data[names!='XRF']\n",
    "labels = np.zeros(len(data))\n",
    "labels[data[:,1]>=10] += 1\n",
    "data = data[:,[0,2,3,4,5]]\n",
    "train_percent = 0.7\n",
    "train_in = data[:int(len(data)*train_percent)]\n",
    "train_out = labels[:int(len(labels)*train_percent)]\n",
    "test_in = data[int(len(data)*train_percent):]\n",
    "test_out = labels[int(len(labels)*train_percent):]\n",
    "\n",
    "dim_1_train = len(train_in) # 1707. Number of bursts in training data.\n",
    "dim_1_test = len(test_in) # Number of bursts in testing data.\n",
    "dim_2 = len(train_in[0]) # 7 parameters\n",
    "dim_3 = 2 # Number of possible classifications"
   ]
  },
  {
   "cell_type": "code",
   "execution_count": 67,
   "metadata": {},
   "outputs": [
    {
     "name": "stdout",
     "output_type": "stream",
     "text": [
      "Run 1\n",
      "Iterations:1000\n"
     ]
    },
    {
     "data": {
      "image/png": "[encoded data removed]",
      "text/plain": [
       "<Figure size 432x288 with 1 Axes>"
      ]
     },
     "metadata": {
      "needs_background": "light"
     },
     "output_type": "display_data"
    },
    {
     "name": "stdout",
     "output_type": "stream",
     "text": [
      "Accuracy: 90.3%\n",
      "Accuracy: 95.5%\n",
      "\n"
     ]
    }
   ],
   "source": [
    "reload(a2)\n",
    "for i in range(1):\n",
    "    sys.stdout.write(\"Run {0}\\n\".format(i+1))\n",
    "    weights = a2.train_perceptron(train_in, train_out)\n",
    "    a2.test_perceptron(train_in,train_out,weights)\n",
    "    a2.test_perceptron(test_in,test_out,weights)\n",
    "    sys.stdout.write (\"\\n\")"
   ]
  },
  {
   "cell_type": "code",
   "execution_count": null,
   "metadata": {},
   "outputs": [],
   "source": []
  }
 ],
 "metadata": {
  "kernelspec": {
   "display_name": "Python 3",
   "language": "python",
   "name": "python3"
  },
  "language_info": {
   "codemirror_mode": {
    "name": "ipython",
    "version": 3
   },
   "file_extension": ".py",
   "mimetype": "text/x-python",
   "name": "python",
   "nbconvert_exporter": "python",
   "pygments_lexer": "ipython3",
   "version": "3.7.3"
  }
 },
 "nbformat": 4,
 "nbformat_minor": 2
}
