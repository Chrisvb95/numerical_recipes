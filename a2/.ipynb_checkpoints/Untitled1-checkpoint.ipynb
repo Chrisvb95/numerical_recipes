{
 "cells": [
  {
   "cell_type": "code",
   "execution_count": 5,
   "metadata": {},
   "outputs": [],
   "source": [
    "import numpy as np\n",
    "import sys\n",
    "import matplotlib.pyplot as plt\n",
    "import matplotlib.patches as patches\n",
    "import h5py\n",
    "from importlib import reload\n",
    "import os\n",
    "import a2_7 as a2"
   ]
  },
  {
   "cell_type": "code",
   "execution_count": 8,
   "metadata": {},
   "outputs": [
    {
     "name": "stdout",
     "output_type": "stream",
     "text": [
      "[[64.74877507 62.36277266]\n",
      " [59.33813287 41.90329696]\n",
      " [56.40125487 62.5312852 ]\n",
      " ...\n",
      " [86.70185374 86.80548671]\n",
      " [86.72258708 86.92692542]\n",
      " [85.1815427  88.01654883]]\n"
     ]
    }
   ],
   "source": [
    "filename = 'colliding.hdf5'\n",
    "url = 'https://home.strw.leidenuniv.nl/~nobels/coursedata/'\n",
    "if not os.path.isfile(filename):\n",
    "    print(f'File not found, downloading {filename}')\n",
    "    os.system('wget '+url+filename)\n",
    "\n",
    "f = h5py.File(filename,'r')\n",
    "#print(list(f.keys()))\n",
    "a_group_key = list(f.keys())[1]\n",
    "#data_type0 = f['PartType0']['Coordinates']\n",
    "#data_type0 = data_type0[:,:2]\n",
    "data_type4 = f['PartType4']['Coordinates']\n",
    "data_type4 = data_type4[:,:2]\n",
    "#print(data_type4)\n"
   ]
  },
  {
   "cell_type": "code",
   "execution_count": null,
   "metadata": {},
   "outputs": [],
   "source": []
  }
 ],
 "metadata": {
  "kernelspec": {
   "display_name": "Python 3",
   "language": "python",
   "name": "python3"
  },
  "language_info": {
   "codemirror_mode": {
    "name": "ipython",
    "version": 3
   },
   "file_extension": ".py",
   "mimetype": "text/x-python",
   "name": "python",
   "nbconvert_exporter": "python",
   "pygments_lexer": "ipython3",
   "version": "3.7.3"
  }
 },
 "nbformat": 4,
 "nbformat_minor": 2
}
