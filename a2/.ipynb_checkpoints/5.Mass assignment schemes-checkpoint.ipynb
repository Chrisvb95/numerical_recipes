{
 "cells": [
  {
   "cell_type": "markdown",
   "metadata": {},
   "source": [
    "# 5.Mass assignment schemes"
   ]
  },
  {
   "cell_type": "markdown",
   "metadata": {},
   "source": [
    "### Nearest grid point method\n",
    "\n",
    "We define the 1D particle shape as S(x) to be the mass density at the distance x from the particle for cell size $\\Delta x$. In this exercise we will use periodic boundary conditions. \n",
    "\n",
    "$ S(x) = \\frac{1}{\\Delta x} \\delta(\\frac{x}{\\Delta x})$\n",
    "\n"
   ]
  },
  {
   "cell_type": "code",
   "execution_count": 2,
   "metadata": {},
   "outputs": [],
   "source": [
    "import numpy as np \n",
    "from matplotlib import pyplot as plt\n",
    "from mpl_toolkits.axes_grid1 import AxesGrid"
   ]
  },
  {
   "cell_type": "code",
   "execution_count": 10,
   "metadata": {},
   "outputs": [],
   "source": [
    "np.random.seed(121)\n",
    "N = 16\n",
    "positions = np.random.uniform(low=0,high=16,size=(3,1024))"
   ]
  },
  {
   "cell_type": "code",
   "execution_count": 11,
   "metadata": {},
   "outputs": [
    {
     "data": {
      "image/png": "[encoded data removed]",
      "text/plain": [
       "<Figure size 2160x2160 with 8 Axes>"
      ]
     },
     "metadata": {
      "needs_background": "light"
     },
     "output_type": "display_data"
    }
   ],
   "source": [
    "mesh = np.zeros((N,N,N))\n",
    "positions_NGP = positions- 0.5\n",
    "for i in range(len(positions_NGP[0])):\n",
    "    x,y,z = np.round(positions_NGP[:,i])\n",
    "    mesh[int(x)][int(y)][int(z)] += 1\n",
    "\n",
    "\n",
    "fig = plt.figure(1,(30,30))\n",
    "grid = AxesGrid(fig, 142,\n",
    "                nrows_ncols=(2, 2),\n",
    "                axes_pad=(0.15,0.45),\n",
    "                share_all=True,\n",
    "                label_mode=\"L\",\n",
    "                cbar_location=\"right\",\n",
    "                cbar_mode=\"single\",\n",
    "                )\n",
    "vmax = np.max(mesh)\n",
    "im = grid[0].imshow(mesh[:,:,3],vmin=0, vmax=vmax)\n",
    "grid[0].set_title('z = 4')\n",
    "im = grid[1].imshow(mesh[:,:,8],vmin=0, vmax=vmax)\n",
    "grid[1].set_title('z = 9')\n",
    "im = grid[2].imshow(mesh[:,:,10],vmin=0, vmax=vmax)\n",
    "grid[2].set_title('z = 11')\n",
    "im = grid[3].imshow(mesh[:,:,13],vmin=0, vmax=vmax)\n",
    "grid[3].set_title('z = 14')\n",
    "grid.cbar_axes[0].colorbar(im)\n",
    "for cax in grid.cbar_axes:\n",
    "        cax.toggle_label(True)\n",
    "        cax.set_yticks([0,1,2,3])\n",
    "#grid.axes_llc.set_xticks([-2, 0, 2])\n",
    "#grid.axes_llc.set_yticks([-2, 0, 2])\n",
    "\n",
    "plt.show()"
   ]
  },
  {
   "cell_type": "code",
   "execution_count": 5,
   "metadata": {},
   "outputs": [
    {
     "data": {
      "text/plain": [
       "[<matplotlib.lines.Line2D at 0x18e6215c860>]"
      ]
     },
     "execution_count": 5,
     "metadata": {},
     "output_type": "execute_result"
    },
    {
     "data": {
      "image/png": "[encoded data removed]",
      "text/plain": [
       "<Figure size 432x288 with 1 Axes>"
      ]
     },
     "metadata": {
      "needs_background": "light"
     },
     "output_type": "display_data"
    }
   ],
   "source": [
    "x = np.arange(0,16,1)\n",
    "plt.plot(x,mesh[0,:,3])"
   ]
  },
  {
   "cell_type": "markdown",
   "metadata": {},
   "source": [
    "### Cloud-In-Cell method\n"
   ]
  },
  {
   "cell_type": "code",
   "execution_count": null,
   "metadata": {},
   "outputs": [],
   "source": []
  },
  {
   "cell_type": "code",
   "execution_count": 13,
   "metadata": {},
   "outputs": [
    {
     "name": "stdout",
     "output_type": "stream",
     "text": [
      "15.498908632897823\n"
     ]
    },
    {
     "ename": "ValueError",
     "evalue": "too many values to unpack (expected 2)",
     "output_type": "error",
     "traceback": [
      "\u001b[1;31m---------------------------------------------------------------------------\u001b[0m",
      "\u001b[1;31mValueError\u001b[0m                                Traceback (most recent call last)",
      "\u001b[1;32m<ipython-input-13-4518acefd3c2>\u001b[0m in \u001b[0;36m<module>\u001b[1;34m\u001b[0m\n\u001b[0;32m      6\u001b[0m     \u001b[0mw\u001b[0m\u001b[1;33m=\u001b[0m \u001b[0mnp\u001b[0m\u001b[1;33m.\u001b[0m\u001b[0mzeros\u001b[0m\u001b[1;33m(\u001b[0m\u001b[1;36m4\u001b[0m\u001b[1;33m)\u001b[0m\u001b[1;33m\u001b[0m\u001b[1;33m\u001b[0m\u001b[0m\n\u001b[0;32m      7\u001b[0m \u001b[1;33m\u001b[0m\u001b[0m\n\u001b[1;32m----> 8\u001b[1;33m     \u001b[0mx\u001b[0m\u001b[1;33m,\u001b[0m\u001b[0my\u001b[0m \u001b[1;33m=\u001b[0m \u001b[0mnp\u001b[0m\u001b[1;33m.\u001b[0m\u001b[0mround\u001b[0m\u001b[1;33m(\u001b[0m\u001b[0mpositions_CIC\u001b[0m\u001b[1;33m[\u001b[0m\u001b[1;33m:\u001b[0m\u001b[1;33m,\u001b[0m\u001b[0mi\u001b[0m\u001b[1;33m]\u001b[0m\u001b[1;33m)\u001b[0m\u001b[1;33m\u001b[0m\u001b[1;33m\u001b[0m\u001b[0m\n\u001b[0m\u001b[0;32m      9\u001b[0m     \u001b[0mdx\u001b[0m\u001b[1;33m,\u001b[0m\u001b[0mdy\u001b[0m \u001b[1;33m=\u001b[0m \u001b[0mx\u001b[0m\u001b[1;33m-\u001b[0m\u001b[0mpositions\u001b[0m\u001b[1;33m[\u001b[0m\u001b[1;36m0\u001b[0m\u001b[1;33m,\u001b[0m\u001b[0mi\u001b[0m\u001b[1;33m]\u001b[0m\u001b[1;33m,\u001b[0m\u001b[0my\u001b[0m\u001b[1;33m-\u001b[0m\u001b[0mpositions_CIC\u001b[0m\u001b[1;33m[\u001b[0m\u001b[1;36m1\u001b[0m\u001b[1;33m,\u001b[0m\u001b[0mi\u001b[0m\u001b[1;33m]\u001b[0m\u001b[1;33m\u001b[0m\u001b[1;33m\u001b[0m\u001b[0m\n\u001b[0;32m     10\u001b[0m     \u001b[0msx\u001b[0m\u001b[1;33m,\u001b[0m\u001b[0msy\u001b[0m \u001b[1;33m=\u001b[0m \u001b[0mnp\u001b[0m\u001b[1;33m.\u001b[0m\u001b[0msign\u001b[0m\u001b[1;33m(\u001b[0m\u001b[0mdx\u001b[0m\u001b[1;33m)\u001b[0m\u001b[1;33m,\u001b[0m\u001b[0mnp\u001b[0m\u001b[1;33m.\u001b[0m\u001b[0msign\u001b[0m\u001b[1;33m(\u001b[0m\u001b[0mdy\u001b[0m\u001b[1;33m)\u001b[0m\u001b[1;33m\u001b[0m\u001b[1;33m\u001b[0m\u001b[0m\n",
      "\u001b[1;31mValueError\u001b[0m: too many values to unpack (expected 2)"
     ]
    }
   ],
   "source": [
    "positions_CIC = positions- 0.5\n",
    "mesh = np.zeros((N,N))\n",
    "print(np.max(positions_CIC))\n",
    "\n",
    "for i in range(len(positions_CIC[0])):\n",
    "    w= np.zeros(4)\n",
    "    \n",
    "    x,y = np.round(positions_CIC[:,i])\n",
    "    dx,dy = x-positions[0,i],y-positions_CIC[1,i]\n",
    "    sx,sy = np.sign(dx),np.sign(dy)\n",
    "    \n",
    "    w[0] = (1-dx)*(1-dy)\n",
    "    w[1] = (dx)*(1-dy)\n",
    "    w[2] = (1-dx)*(dy)\n",
    "    w[3] = (dx)*(dy)\n",
    "    \n",
    "    mesh[np.int(x)-1][np.int(y)-1] += w[0]\n",
    "    mesh[np.int(x+sx)-1][np.int(y)-1] += w[1]\n",
    "    mesh[np.int(x)-1][np.int(y+sy)-1] += w[2]\n",
    "    mesh[np.int(x+sx)-1][np.int(y+sy)-1] += w[3]\n",
    "\n",
    "plt.imshow(mesh)"
   ]
  },
  {
   "cell_type": "code",
   "execution_count": 15,
   "metadata": {},
   "outputs": [
    {
     "name": "stdout",
     "output_type": "stream",
     "text": [
      "[0.46445861 0.18178356 0.21203872 0.08298942 0.02897946 0.01134222\n",
      " 0.01322996 0.00517805]\n"
     ]
    },
    {
     "name": "stderr",
     "output_type": "stream",
     "text": [
      "c:\\users\\christiaan\\appdata\\local\\programs\\python\\python37\\lib\\site-packages\\mpl_toolkits\\axes_grid1\\colorbar.py:473: UserWarning: Attempting to set identical bottom==top results\n",
      "in singular transformations; automatically expanding.\n",
      "bottom=0.0, top=0.0\n",
      "  ax.set_ylim(vmin, vmax)\n"
     ]
    },
    {
     "data": {
      "image/png": "[encoded data removed]",
      "text/plain": [
       "<Figure size 2160x2160 with 8 Axes>"
      ]
     },
     "metadata": {
      "needs_background": "light"
     },
     "output_type": "display_data"
    }
   ],
   "source": [
    "mesh = np.zeros((N,N,N))\n",
    "\n",
    "for i in range(len(positions_CIC[0])):\n",
    "#for i in range(1): \n",
    "    w= np.zeros(8)\n",
    "    \n",
    "    x,y,z = np.round(positions_CIC[:,i])\n",
    "    #print(x,y,z)\n",
    "    dx,dy,dz = x-positions_CIC[0,i],y-positions_CIC[1,i],z-positions_CIC[2,i]\n",
    "    sx,sy,sz = np.sign(dx),np.sign(dy),np.sign(dz)\n",
    "    dx,dy,dz = np.abs(dx),np.abs(dy),np.abs(dz)\n",
    "    \n",
    "    w[0] = (1-dx)*(1-dy)*(1-dz)\n",
    "    w[1] = (dx)*(1-dy)*(1-dz)\n",
    "    w[2] = (1-dx)*(dy)*(1-dz)\n",
    "    w[3] = (dx)*(dy)*(1-dz)\n",
    "    w[4] = (1-dx)*(1-dy)*(dz)\n",
    "    w[5] = (dx)*(1-dy)*(dz)\n",
    "    w[6] = (1-dx)*(dy)*(dz)\n",
    "    w[7] = (dx)*(dy)*(dz) \n",
    "    \n",
    "    print(w)\n",
    "    \n",
    "    mesh[np.int(x)-1][np.int(y)-1][np.int(z)-1] += w[0]\n",
    "    mesh[np.int(x+sx)-1][np.int(y)-1][np.int(z)-1] += w[1]\n",
    "    mesh[np.int(x)-1][np.int(y+sy)-1][np.int(z)-1] += w[2]\n",
    "    mesh[np.int(x+sx)-1][np.int(y+sy)-1][np.int(z)-1] += w[3]\n",
    "    mesh[np.int(x)-1][np.int(y)-1][np.int(z+sz)-1] += w[4]\n",
    "    mesh[np.int(x+sx)-1][np.int(y)-1][np.int(z+sz)-1] += w[5]\n",
    "    mesh[np.int(x)-1][np.int(y+sy)-1][np.int(z+sz)-1] += w[6]\n",
    "    mesh[np.int(x+sx)-1][np.int(y+sy)-1][np.int(z+sz)-1] += w[7]\n",
    "\n",
    "fig = plt.figure(1,(30,30))\n",
    "grid = AxesGrid(fig, 142,\n",
    "                nrows_ncols=(2, 2),\n",
    "                axes_pad=(0.15,0.45),\n",
    "                share_all=True,\n",
    "                label_mode=\"L\",\n",
    "                cbar_location=\"right\",\n",
    "                cbar_mode=\"single\",\n",
    "                )\n",
    "vmax = np.max(mesh)\n",
    "im = grid[0].imshow(mesh[:,:,3])#,vmin=0, vmax=vmax)\n",
    "grid[0].set_title('z = 4')\n",
    "im = grid[1].imshow(mesh[:,:,8])#,vmin=0, vmax=vmax)\n",
    "grid[1].set_title('z = 9')\n",
    "im = grid[2].imshow(mesh[:,:,10])#,vmin=0, vmax=vmax)\n",
    "grid[2].set_title('z = 11')\n",
    "im = grid[3].imshow(mesh[:,:,13])#,vmin=0, vmax=vmax)\n",
    "grid[3].set_title('z = 14')\n",
    "grid.cbar_axes[0].colorbar(im)\n",
    "for cax in grid.cbar_axes:\n",
    "        cax.toggle_label(True)\n",
    "        \n",
    "plt.show()"
   ]
  },
  {
   "cell_type": "code",
   "execution_count": null,
   "metadata": {},
   "outputs": [],
   "source": []
  },
  {
   "cell_type": "code",
   "execution_count": null,
   "metadata": {},
   "outputs": [],
   "source": []
  },
  {
   "cell_type": "code",
   "execution_count": null,
   "metadata": {},
   "outputs": [],
   "source": []
  },
  {
   "cell_type": "code",
   "execution_count": null,
   "metadata": {},
   "outputs": [],
   "source": []
  }
 ],
 "metadata": {
  "kernelspec": {
   "display_name": "Python 3",
   "language": "python",
   "name": "python3"
  },
  "language_info": {
   "codemirror_mode": {
    "name": "ipython",
    "version": 3
   },
   "file_extension": ".py",
   "mimetype": "text/x-python",
   "name": "python",
   "nbconvert_exporter": "python",
   "pygments_lexer": "ipython3",
   "version": "3.7.3"
  }
 },
 "nbformat": 4,
 "nbformat_minor": 2
}
