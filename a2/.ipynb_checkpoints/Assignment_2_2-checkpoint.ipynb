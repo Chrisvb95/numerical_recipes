{
 "cells": [
  {
   "cell_type": "code",
   "execution_count": null,
   "metadata": {},
   "outputs": [],
   "source": [
    "import numpy as np\n",
    "from matplotlib import pyplot as plt"
   ]
  },
  {
   "cell_type": "code",
   "execution_count": null,
   "metadata": {},
   "outputs": [],
   "source": []
  },
  {
   "cell_type": "code",
   "execution_count": null,
   "metadata": {},
   "outputs": [],
   "source": [
    "np.random.seed(42)\n",
    "n = -1\n",
    "N = 1024\n",
    "df = np.zeros((N,N),dtype=complex)\n",
    "\n",
    "for j in range((N//2)+1):\n",
    "    # Determining the value of k_y \n",
    "    k_y = j*2*np.pi/N\n",
    "    for i in range(N):\n",
    "        # Determining the value of k_x and sigma_x\n",
    "        if i <= (N//2):\n",
    "            k_x = (i)*2*np.pi/N\n",
    "        else:\n",
    "            k_x = (-N+i)*2*np.pi/N\n",
    "        # Avoid dividing by 0\n",
    "        if i != 0 or j != 0:\n",
    "            sig = ((k_x**2+k_y**2)**0.5)**(n/2)\n",
    "        else: \n",
    "            sig = 0\n",
    "        # Drawing a random number from normal distrib \n",
    "        df[j][i] = np.random.normal(0,sig)+ 1j*np.random.normal(0,sig)\n",
    "\n",
    "df[0][0] = 0\n",
    "df[0][N//2] = (df[0][N//2].real)**2\n",
    "df[N//2][0] = (df[N//2][0].real)**2\n",
    "df[N//2][N//2] = (df[N//2][N//2].real)**2\n",
    "\n",
    "for j in range((N//2)+1):\n",
    "    for i in range(N):\n",
    "        df[-j][-i]= df[j][i].conjugate()\n",
    "\n",
    "plt.imshow((df.real))\n",
    "plt.show()\n",
    "df = np.fft.ifft2(df)\n",
    "plt.imshow((df.real))\n",
    "plt.show()\n",
    "print(df.imag)\n",
    "plt.imshow(df.imag)"
   ]
  },
  {
   "cell_type": "code",
   "execution_count": null,
   "metadata": {},
   "outputs": [],
   "source": []
  },
  {
   "cell_type": "code",
   "execution_count": 86,
   "metadata": {},
   "outputs": [
    {
     "name": "stdout",
     "output_type": "stream",
     "text": [
      "[[-0.23492266+0.3215912j  -0.24635561+0.21758342j -0.07782153+0.83020709j\n",
      "  ... -0.65740351-0.09212934j -0.23096485+0.06986269j\n",
      "  -0.42252941-0.05343419j]\n",
      " [-0.15260177-0.60034649j -1.22508069+0.26726019j -0.8490673 -1.15604267j\n",
      "  ... -0.0210063 +0.73522292j -0.17098142-0.24629241j\n",
      "  -0.72570845+1.3801327j ]\n",
      " [ 0.033274  -1.07139945j  0.20444478-0.08947981j  0.92506693+0.26568806j\n",
      "  ... -0.51013766-0.9606012j   0.64914588-1.55657559j\n",
      "  -0.77655225-0.39339521j]\n",
      " ...\n",
      " [-0.77655225-0.39339521j  0.64914588-1.55657559j -0.51013766-0.9606012j\n",
      "  ...  0.92506693+0.26568806j  0.20444478-0.08947981j\n",
      "   0.033274  -1.07139945j]\n",
      " [-0.72570845+1.3801327j  -0.17098142-0.24629241j -0.0210063 +0.73522292j\n",
      "  ... -0.8490673 -1.15604267j -1.22508069+0.26726019j\n",
      "  -0.15260177-0.60034649j]\n",
      " [-0.42252941-0.05343419j -0.23096485+0.06986269j -0.65740351-0.09212934j\n",
      "  ... -0.07782153+0.83020709j -0.24635561+0.21758342j\n",
      "  -0.23492266+0.3215912j ]]\n"
     ]
    }
   ],
   "source": [
    "df = np.fft.fftshift(df)\n",
    "print(df)"
   ]
  },
  {
   "cell_type": "code",
   "execution_count": 184,
   "metadata": {},
   "outputs": [
    {
     "name": "stdout",
     "output_type": "stream",
     "text": [
      "[[ 0  1  2  3  4  3  2  1]\n",
      " [10 11 12 13 14 13 12 11]\n",
      " [20 21 22 23 24 23 22 21]\n",
      " [30 31 32 33 34 33 32 31]\n",
      " [40 41 42 43 44 43 42 41]\n",
      " [ 0  0  0  0  0  0  0  0]\n",
      " [ 0  0  0  0  0  0  0  0]\n",
      " [ 0  0  0  0  0  0  0  0]]\n",
      "Conjugate\n",
      "[[  0   1   2   3  -4  -3  -2  -1]\n",
      " [ 10  11  12  13  14  13  12  11]\n",
      " [ 20  21  22  23  24  23  22  21]\n",
      " [ 30  31  32  33  34  33  32  31]\n",
      " [-40  41  42  43 -44 -43 -42 -41]\n",
      " [-30 -31 -32 -33 -34 -33 -32 -31]\n",
      " [-20 -21 -22 -23 -24 -23 -22 -21]\n",
      " [-10 -11 -12 -13 -14 -13 -12 -11]]\n",
      "Fixed 3 points\n",
      "[[  0   1   2   3   4  -3  -2  -1]\n",
      " [ 10  11  12  13  14  13  12  11]\n",
      " [ 20  21  22  23  24  23  22  21]\n",
      " [ 30  31  32  33  34  33  32  31]\n",
      " [ 40  41  42  43  44 -43 -42 -41]\n",
      " [-30 -31 -32 -33 -34 -33 -32 -31]\n",
      " [-20 -21 -22 -23 -24 -23 -22 -21]\n",
      " [-10 -11 -12 -13 -14 -13 -12 -11]]\n"
     ]
    }
   ],
   "source": [
    "x = np.array(([0,1,2,3,4,3,2,1],\n",
    "              [10,11,12,13,14,13,12,11],\n",
    "              [20,21,22,23,24,23,22,21],\n",
    "              [30,31,32,33,34,33,32,31],\n",
    "              [40,41,42,43,44,43,42,41],\n",
    "              [0,0,0,0,0,0,0,0],\n",
    "              [0,0,0,0,0,0,0,0],\n",
    "              [0,0,0,0,0,0,0,0]))\n",
    "print(x)\n",
    "#for i in range(len(x)//2):\n",
    "#    x[0][-i] = x[0][i]\n",
    "#print('Shift x axis')\n",
    "#print(x)\n",
    "for j in range((len(x)//2)+1):\n",
    "    for i in range(len(x[0])):\n",
    "        x[-j][-i]=x[j][i]*-1\n",
    "print('Conjugate')\n",
    "print(x)        \n",
    "x[0][len(x)//2] = 4\n",
    "x[len(x)//2][len(x)//2] = 44\n",
    "x[len(x)//2][0] = 40\n",
    "print('Fixed 3 points')\n",
    "print(x)"
   ]
  },
  {
   "cell_type": "code",
   "execution_count": null,
   "metadata": {},
   "outputs": [],
   "source": []
  }
 ],
 "metadata": {
  "kernelspec": {
   "display_name": "Python 3",
   "language": "python",
   "name": "python3"
  },
  "language_info": {
   "codemirror_mode": {
    "name": "ipython",
    "version": 3
   },
   "file_extension": ".py",
   "mimetype": "text/x-python",
   "name": "python",
   "nbconvert_exporter": "python",
   "pygments_lexer": "ipython3",
   "version": "3.7.3"
  }
 },
 "nbformat": 4,
 "nbformat_minor": 2
}
