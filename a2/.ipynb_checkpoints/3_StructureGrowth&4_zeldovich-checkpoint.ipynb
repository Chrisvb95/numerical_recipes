{
 "cells": [
  {
   "cell_type": "code",
   "execution_count": 1,
   "metadata": {},
   "outputs": [
    {
     "name": "stdout",
     "output_type": "stream",
     "text": [
      "Original seed: 42\n"
     ]
    }
   ],
   "source": [
    "import numpy as np\n",
    "import NR_a2_1_utils as utils1\n",
    "import NR_a2_3_utils as utils3\n",
    "from matplotlib import pyplot as plt\n",
    "from importlib import reload\n",
    "from scipy import stats\n",
    "reload(utils1)\n",
    "reload(utils3)\n",
    "seed = 42\n",
    "print('Original seed:',seed)\n",
    "rng = utils1.rng(seed)"
   ]
  },
  {
   "cell_type": "markdown",
   "metadata": {},
   "source": [
    "# 3. Linear Structure growth"
   ]
  },
  {
   "cell_type": "code",
   "execution_count": null,
   "metadata": {},
   "outputs": [],
   "source": [
    "reload(utils3)\n",
    "ode = lambda y,t : -y\n",
    "ode_int = utils3.runge_kutta(0,10,ode,10)\n",
    "print(ode_int)\n",
    "reload(utils3)\n",
    "ode = lambda y,t : -y*t\n",
    "ode_int = utils3.runge_kutta(0,10,ode,10)\n",
    "print(ode_int)"
   ]
  },
  {
   "cell_type": "code",
   "execution_count": 20,
   "metadata": {},
   "outputs": [],
   "source": [
    "reload(utils3)\n",
    "f = lambda t,x1,x2: x2\n",
    "g = lambda t,x1,x2: -4/(3*t)*x2 + 2/(3*t**2)*x1\n",
    "case1 = utils3.runge_kutta2nd(3,2,1000,f,g)\n",
    "case2 = utils3.runge_kutta2nd(10,-10,1000,f,g)\n",
    "case3 = utils3.runge_kutta2nd(5,0,1000,f,g)\n",
    "print(case1,case2,case3)"
   ]
  },
  {
   "cell_type": "code",
   "execution_count": 17,
   "metadata": {},
   "outputs": [
    {
     "name": "stdout",
     "output_type": "stream",
     "text": [
      "6.888192124574907\n"
     ]
    }
   ],
   "source": [
    "reload(utils3)\n",
    "f = lambda t,x1,x2 : x2\n",
    "g = lambda t,x1,x2 : x1*6-x2\n",
    "y = utils3.runge_kutta2nd(3,1,1,f,g)\n",
    "print(y)"
   ]
  },
  {
   "cell_type": "markdown",
   "metadata": {},
   "source": [
    "# 4. Zeldovich Approximation\n",
    "\n",
    "Integrate up to $z=50$: \n",
    "\n",
    "$D(z) = \\frac{5\\Omega_mH_0^2}{2}H(z)\\int_z^\\infty\\frac{1+z'}{H^3(z')}dz'$\n",
    "\n",
    "Where: \n",
    "\n",
    "$H(z)^2 = H^2_0(\\Omega_m(1+z)^3+\\Omega_\\Lambda)$\n",
    "\n"
   ]
  },
  {
   "cell_type": "markdown",
   "metadata": {},
   "source": [
    "In order to avoid having to integrate up to $\\infty$ we will be substituting $z = \\frac{1}{a} -1$. This gives us the following equations: \n",
    "\n",
    "\n",
    "$ D(a) = \\frac{5\\Omega_mH_0^2}{2}H(z)\\int_0^a\\frac{1}{a^3'H^3(z')}da' $\n",
    "\n",
    "Where: \n",
    "\n",
    "$H(a)^2 = H^2_0(\\frac{\\Omega_m}{a^3}+\\Omega_\\Lambda)$"
   ]
  },
  {
   "cell_type": "code",
   "execution_count": 6,
   "metadata": {},
   "outputs": [
    {
     "name": "stdout",
     "output_type": "stream",
     "text": [
      "6.830284178986103e-08\n"
     ]
    }
   ],
   "source": [
    "omega_m = 0.3\n",
    "omega_lambda = 0.7\n",
    "H0 = 70 # km/s/Mpc\n",
    "\n",
    "H = lambda a : (H0**2*(omega_m*(a)**(-3)+omega_lambda))**0.5\n",
    "D_prefactor = lambda a : (5*omega_m*H0**2)/2*H(a)\n",
    "D_int = lambda a: (1+a)/(H(a)**3)\n",
    "a = 1/51\n",
    "D = D_prefactor(a) * utils1.romber_int(D_int,1e-12,a)\n",
    "print(D)"
   ]
  },
  {
   "cell_type": "code",
   "execution_count": null,
   "metadata": {},
   "outputs": [],
   "source": []
  },
  {
   "cell_type": "code",
   "execution_count": null,
   "metadata": {},
   "outputs": [],
   "source": []
  },
  {
   "cell_type": "code",
   "execution_count": null,
   "metadata": {},
   "outputs": [],
   "source": []
  }
 ],
 "metadata": {
  "kernelspec": {
   "display_name": "Python 3",
   "language": "python",
   "name": "python3"
  },
  "language_info": {
   "codemirror_mode": {
    "name": "ipython",
    "version": 3
   },
   "file_extension": ".py",
   "mimetype": "text/x-python",
   "name": "python",
   "nbconvert_exporter": "python",
   "pygments_lexer": "ipython3",
   "version": "3.7.3"
  }
 },
 "nbformat": 4,
 "nbformat_minor": 2
}
