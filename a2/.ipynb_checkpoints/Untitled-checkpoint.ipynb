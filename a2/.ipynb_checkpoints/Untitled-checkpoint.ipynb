{
 "cells": [
  {
   "cell_type": "code",
   "execution_count": 3,
   "metadata": {},
   "outputs": [],
   "source": [
    "import numpy as np\n",
    "import sys\n",
    "import matplotlib.pyplot as plt\n",
    "from tqdm import tqdm\n",
    "from a2_1 import rng,box_muller,romber_int,ridders_diff\n",
    "import a2_4 as a4"
   ]
  },
  {
   "cell_type": "code",
   "execution_count": 10,
   "metadata": {},
   "outputs": [
    {
     "name": "stdout",
     "output_type": "stream",
     "text": [
      "--- Exercise 4 ---\n",
      "Original seed: 627310980\n",
      "The linear growth factor at z = 50 (a = 1/51) is equal to: 0.01961021426458253\n",
      " The analytical value of time derivative of D(z) at z = 50 : 1239.0147426693459\n",
      " The numerical value of time derivative of D(z) at z = 50 : [499.95564708]\n"
     ]
    }
   ],
   "source": [
    "print('--- Exercise 4 ---')\n",
    "seed = 627310980\n",
    "rng = a4.rng(seed)\n",
    "print('Original seed:',seed)\n",
    "# --- 4.a ---\n",
    "# Setting the constants\n",
    "omega_m = 0.3\n",
    "omega_lambda = 0.7\n",
    "H0 = 70 # km/s/Mpc\n",
    "# Setting the functions\n",
    "H = lambda a : H0*((omega_m*(a)**(-3)+omega_lambda))**0.5\n",
    "D_prefactor = lambda a : (5*omega_m*H0**2)/2*H(a)\n",
    "dIda = lambda a: 1/(a*H(a))**3\n",
    "I = lambda a: a4.romber_int(dIda,1e-12,a)\n",
    "a = 1/51\n",
    "D = lambda a: D_prefactor(a) * I(a)\n",
    "print(f'The linear growth factor at z = 50 (a = 1/51) is equal to: {D(a)}')\n",
    "\n",
    "# --- 4.b --- \n",
    "# Setting the functions\n",
    "pre_fact = lambda a: 5*omega_m*H0**3/(2*a**(0.5)) \n",
    "dHda = lambda a: -3*omega_m/(2*(a**5*(omega_m+omega_lambda*a**3))**0.5)\n",
    "dDdt = lambda a: pre_fact(a)*(dHda(a)*I(a)+dIda(a)*H(a))\n",
    "dDdt_numerical = a4.ridders_diff(D,np.array([a]))*H0/(a)**0.5\n",
    "print(f' The analytical value of time derivative of D(z) at z = 50 : {dDdt}')\n",
    "print(f' The numerical value of time derivative of D(z) at z = 50 : {dDdt_numerical}')"
   ]
  },
  {
   "cell_type": "code",
   "execution_count": 11,
   "metadata": {},
   "outputs": [
    {
     "name": "stderr",
     "output_type": "stream",
     "text": [
      "/net/student50/data1/MRP1/numerical_recipes/a2/a2_1.py:22: RuntimeWarning: overflow encountered in long_scalars\n",
      "  self.state = self.a*(x&(2**32-1))+(x>>32)\n",
      "100%|██████████| 90/90 [00:11<00:00,  7.92it/s]"
     ]
    },
    {
     "name": "stdout",
     "output_type": "stream",
     "text": [
      "2D N-body simulation completed\n"
     ]
    },
    {
     "name": "stderr",
     "output_type": "stream",
     "text": [
      "\n"
     ]
    }
   ],
   "source": [
    "N = 64\n",
    "a = np.linspace(0.0025,1,90)\n",
    "Da = np.zeros(len(a))\n",
    "\n",
    "# 2D - Generating S for the x and y dimensions in the Fourier plane\n",
    "Sx,Sy = a4.random_field_generator_zeld(N,rng)\n",
    "Sx = np.fft.ifft2(Sx).real*N\n",
    "Sy = np.fft.ifft2(Sy).real*N\n",
    "\n",
    "# Setting the starting coordinates\n",
    "q = np.zeros((N,N,2))\n",
    "for i in range(len(q)):\n",
    "    for j in range(len(q)):\n",
    "        q[i][j] = i,j\n",
    "\n",
    "da = a[1]-a[0]\n",
    "p = lambda a,S : -1*(a-da/2)**2*dDdt(a-da/2)*S\n",
    "Py = np.zeros(len(a))\n",
    "Xy = np.zeros(len(a))\n",
    "\n",
    "# Iterating through all the a values\n",
    "x2D = np.zeros((N,N,2))\n",
    "for k in tqdm(range(0,90)):\n",
    "    # Calculating D and D*S\n",
    "    Da[k] = D(a[k])\n",
    "    DSx = Da[k]*Sx\n",
    "    DSy = Da[k]*Sy\n",
    "    Py = p(a[k],Sy[0,0,:10]) \n",
    "    # Calculating the new x positions\n",
    "    x2D[:,:,0] = (q[:,:,0]+DSx)%N\n",
    "    x2D[:,:,1] = (q[:,:,1]+DSy)%N\n",
    "    Xy = x2D[0,0,:10]\n",
    "    # Plotting\n",
    "    plt.scatter(x2D[:,:,0],x2D[:,:,1],marker='.')\n",
    "    plt.title('2D N-body simulation')\n",
    "    plt.ylabel('Mpc')\n",
    "    plt.xlabel(f'a = {np.round(a[k],3)}')\n",
    "    plt.savefig('./plots/2Dmovie/snap%04d.png'%k)\n",
    "    plt.close()\n",
    "\n",
    "print('2D N-body simulation completed')"
   ]
  },
  {
   "cell_type": "code",
   "execution_count": null,
   "metadata": {},
   "outputs": [],
   "source": []
  }
 ],
 "metadata": {
  "kernelspec": {
   "display_name": "Python 3",
   "language": "python",
   "name": "python3"
  },
  "language_info": {
   "codemirror_mode": {
    "name": "ipython",
    "version": 3
   },
   "file_extension": ".py",
   "mimetype": "text/x-python",
   "name": "python",
   "nbconvert_exporter": "python",
   "pygments_lexer": "ipython3",
   "version": "3.7.3"
  }
 },
 "nbformat": 4,
 "nbformat_minor": 2
}
