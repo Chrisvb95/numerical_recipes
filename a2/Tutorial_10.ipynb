{
 "cells": [
  {
   "cell_type": "code",
   "execution_count": null,
   "metadata": {},
   "outputs": [],
   "source": []
  },
  {
   "cell_type": "code",
   "execution_count": null,
   "metadata": {},
   "outputs": [],
   "source": [
    "def y_calc():\n",
    "    z0 = f(x)\n",
    "    z1 = z0 +h*    \n",
    "    y_index = k*n\n",
    "\n",
    "def bulirsch_stoer():\n",
    "# Integrates fram a to b up to an accuracy of 6 decimals\n",
    "    for k in range(1,10):\n",
    "        n = k*2\n",
    "        T_new = np.zeros((k))\n",
    "        T_new[0] =  "
   ]
  },
  {
   "cell_type": "code",
   "execution_count": null,
   "metadata": {},
   "outputs": [],
   "source": [
    "def k_calc(h,f,xn,yn):\n",
    "    k1 = h * f(xn,yn)\n",
    "    k2 = h * f(xn+0.5*h,yn+0.5*k1)\n",
    "    k3 = h * f(xn+0.5*h,yn+0.5*k2)\n",
    "    k4 = h * f(xn+h,yn+k3)\n",
    "    return yn+1/6*k1+1/3*k2+1/3*k3+1/6*k4\n",
    "\n",
    "def runge_kutta_4th(f,y0,x0,h):\n",
    "    \n",
    "    for i in range(n):         \n",
    "        yn_new = k_calc(h,f,x0,y0)\n",
    "        \n",
    "    "
   ]
  }
 ],
 "metadata": {
  "kernelspec": {
   "display_name": "Python 3",
   "language": "python",
   "name": "python3"
  },
  "language_info": {
   "codemirror_mode": {
    "name": "ipython",
    "version": 3
   },
   "file_extension": ".py",
   "mimetype": "text/x-python",
   "name": "python",
   "nbconvert_exporter": "python",
   "pygments_lexer": "ipython3",
   "version": "3.7.3"
  }
 },
 "nbformat": 4,
 "nbformat_minor": 2
}
