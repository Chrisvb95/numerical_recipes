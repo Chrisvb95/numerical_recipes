{
 "cells": [
  {
   "cell_type": "code",
   "execution_count": 32,
   "metadata": {},
   "outputs": [],
   "source": [
    "import a2_1 as a1\n",
    "import numpy as np\n",
    "import os\n",
    "import matplotlib.pyplot as plt\n",
    "from importlib import reload\n",
    "from tqdm import tqdm\n",
    "from scipy import stats\n",
    "from astropy.stats import kuiper"
   ]
  },
  {
   "cell_type": "code",
   "execution_count": 67,
   "metadata": {},
   "outputs": [
    {
     "name": "stderr",
     "output_type": "stream",
     "text": [
      "/net/student50/data1/MRP1/numerical_recipes/a2/a2_1.py:22: RuntimeWarning: overflow encountered in long_scalars\n",
      "  self.state = self.a*(x&(2**32-1))+(x>>32)\n"
     ]
    },
    {
     "data": {
      "image/png": "[encoded data removed]",
      "text/plain": [
       "<Figure size 432x288 with 1 Axes>"
      ]
     },
     "metadata": {
      "needs_background": "light"
     },
     "output_type": "display_data"
    },
    {
     "name": "stdout",
     "output_type": "stream",
     "text": [
      "1000\n"
     ]
    },
    {
     "ename": "ValueError",
     "evalue": "operands could not be broadcast together with shapes (1000,) (10,) ",
     "output_type": "error",
     "traceback": [
      "\u001b[0;31m---------------------------------------------------------------------------\u001b[0m",
      "\u001b[0;31mValueError\u001b[0m                                Traceback (most recent call last)",
      "\u001b[0;32m<ipython-input-67-dcd7823a20e8>\u001b[0m in \u001b[0;36m<module>\u001b[0;34m()\u001b[0m\n\u001b[1;32m     29\u001b[0m     \u001b[0mrand\u001b[0m \u001b[0;34m=\u001b[0m \u001b[0mrand_bm\u001b[0m\u001b[0;34m[\u001b[0m\u001b[0;36m0\u001b[0m\u001b[0;34m]\u001b[0m\u001b[0;34m[\u001b[0m\u001b[0;34m:\u001b[0m\u001b[0mn\u001b[0m\u001b[0;34m[\u001b[0m\u001b[0mi\u001b[0m\u001b[0;34m]\u001b[0m\u001b[0;34m]\u001b[0m\u001b[0;34m\u001b[0m\u001b[0;34m\u001b[0m\u001b[0m\n\u001b[1;32m     30\u001b[0m     \u001b[0mkuip_d\u001b[0m\u001b[0;34m[\u001b[0m\u001b[0mi\u001b[0m\u001b[0;34m]\u001b[0m\u001b[0;34m,\u001b[0m\u001b[0mkuip_P\u001b[0m\u001b[0;34m[\u001b[0m\u001b[0mi\u001b[0m\u001b[0;34m]\u001b[0m \u001b[0;34m=\u001b[0m \u001b[0ma1\u001b[0m\u001b[0;34m.\u001b[0m\u001b[0mKS_Kuip_test\u001b[0m\u001b[0;34m(\u001b[0m\u001b[0mrand\u001b[0m\u001b[0;34m,\u001b[0m\u001b[0mgauss\u001b[0m\u001b[0;34m,\u001b[0m\u001b[0mmu\u001b[0m\u001b[0;34m,\u001b[0m\u001b[0msig\u001b[0m\u001b[0;34m,\u001b[0m\u001b[0mKuip\u001b[0m\u001b[0;34m=\u001b[0m\u001b[0;32mTrue\u001b[0m\u001b[0;34m)\u001b[0m\u001b[0;34m\u001b[0m\u001b[0;34m\u001b[0m\u001b[0m\n\u001b[0;32m---> 31\u001b[0;31m     \u001b[0mkuip_d_s\u001b[0m\u001b[0;34m[\u001b[0m\u001b[0mi\u001b[0m\u001b[0;34m]\u001b[0m\u001b[0;34m,\u001b[0m\u001b[0mkuip_P_s\u001b[0m\u001b[0;34m[\u001b[0m\u001b[0mi\u001b[0m\u001b[0;34m]\u001b[0m \u001b[0;34m=\u001b[0m \u001b[0mkuiper\u001b[0m\u001b[0;34m(\u001b[0m\u001b[0mrand\u001b[0m\u001b[0;34m,\u001b[0m\u001b[0mgauss_cdf\u001b[0m\u001b[0;34m)\u001b[0m\u001b[0;34m\u001b[0m\u001b[0;34m\u001b[0m\u001b[0m\n\u001b[0m\u001b[1;32m     32\u001b[0m \u001b[0;31m# Plotting\u001b[0m\u001b[0;34m\u001b[0m\u001b[0;34m\u001b[0m\u001b[0;34m\u001b[0m\u001b[0m\n\u001b[1;32m     33\u001b[0m \u001b[0mplt\u001b[0m\u001b[0;34m.\u001b[0m\u001b[0mplot\u001b[0m\u001b[0;34m(\u001b[0m\u001b[0mn\u001b[0m\u001b[0;34m,\u001b[0m\u001b[0mkuip_P_s\u001b[0m\u001b[0;34m,\u001b[0m\u001b[0mlabel\u001b[0m\u001b[0;34m=\u001b[0m\u001b[0;34m'Scipy'\u001b[0m\u001b[0;34m)\u001b[0m\u001b[0;34m\u001b[0m\u001b[0;34m\u001b[0m\u001b[0m\n",
      "\u001b[0;32m/software/local/lib64/python3.7/site-packages/astropy/stats/funcs.py\u001b[0m in \u001b[0;36mkuiper\u001b[0;34m(data, cdf, args)\u001b[0m\n\u001b[1;32m   1391\u001b[0m     \u001b[0mcdfv\u001b[0m \u001b[0;34m=\u001b[0m \u001b[0mcdf\u001b[0m\u001b[0;34m(\u001b[0m\u001b[0mdata\u001b[0m\u001b[0;34m,\u001b[0m \u001b[0;34m*\u001b[0m\u001b[0margs\u001b[0m\u001b[0;34m)\u001b[0m\u001b[0;34m\u001b[0m\u001b[0;34m\u001b[0m\u001b[0m\n\u001b[1;32m   1392\u001b[0m     \u001b[0mN\u001b[0m \u001b[0;34m=\u001b[0m \u001b[0mlen\u001b[0m\u001b[0;34m(\u001b[0m\u001b[0mdata\u001b[0m\u001b[0;34m)\u001b[0m\u001b[0;34m\u001b[0m\u001b[0;34m\u001b[0m\u001b[0m\n\u001b[0;32m-> 1393\u001b[0;31m     D = (np.amax(cdfv - np.arange(N) / float(N)) +\n\u001b[0m\u001b[1;32m   1394\u001b[0m          np.amax((np.arange(N) + 1) / float(N) - cdfv))\n\u001b[1;32m   1395\u001b[0m \u001b[0;34m\u001b[0m\u001b[0m\n",
      "\u001b[0;31mValueError\u001b[0m: operands could not be broadcast together with shapes (1000,) (10,) "
     ]
    }
   ],
   "source": [
    "reload(a1)\n",
    "seed = 627310980\n",
    "rng = a1.rng(seed)\n",
    "mu,sig = 0,1\n",
    "N = 1000\n",
    "rand = a1.box_muller(rng.rand_num(N),rng.rand_num(N),mu,sig)\n",
    "gauss = lambda x : 1/(2*np.pi*sig**2)**0.5*np.exp(-0.5*(x-mu)**2/sig**2)\n",
    "n = np.logspace(np.log10(10),np.log10(1000),dtype=int)\n",
    "\n",
    "x = np.linspace(mu-5*sig,mu+5*sig,1000)\n",
    "\n",
    "gauss_cdf_precal = np.zeros(len(x))\n",
    "#print(n[-1])\n",
    "for i in range(len(x)):\n",
    "    gauss_cdf_precal[i] = a1.romber_int(gauss,x[0],x[i])\n",
    "\n",
    "gauss_cdf = lambda x: gauss_cdf_precal\n",
    "\n",
    "plt.plot(x,gauss_cdf_precal)\n",
    "plt.show()\n",
    "    \n",
    "kuip_P,kuip_P_s = np.zeros(len(n)),np.zeros(len(n)) \n",
    "kuip_d,kuip_d_s = np.zeros(len(n)),np.zeros(len(n))\n",
    "# Running test for different values of N\n",
    "\n",
    "rand_bm = a1.box_muller(rng.rand_num(n[-1]),rng.rand_num(n[-1]),mu,sig)   \n",
    "print(len(rand_bm[0]))\n",
    "for i in range(len(n)):\n",
    "    rand = rand_bm[0][:n[i]]\n",
    "    kuip_d[i],kuip_P[i] = a1.KS_Kuip_test(rand,gauss,mu,sig,Kuip=True)\n",
    "    kuip_d_s[i],kuip_P_s[i] = kuiper(rand,gauss_cdf)\n",
    "# Plotting\n",
    "plt.plot(n,kuip_P_s,label='Scipy')\n",
    "plt.plot(n,kuip_P,label='Self written')\n",
    "plt.title('Scipy KS-Test and self-written Kuiper-Test')\n",
    "plt.ylabel('$P(z)$')\n",
    "plt.xlabel('N')\n",
    "plt.xscale('log')\n",
    "plt.legend(loc = 'upper right',frameon=False)\n",
    "plt.show()"
   ]
  },
  {
   "cell_type": "code",
   "execution_count": null,
   "metadata": {},
   "outputs": [],
   "source": [
    "seed = 627310980\n",
    "rng = a1.rng(seed)\n",
    "N = 1000\n",
    "mu, sig = 0,1\n",
    "\n",
    "gauss = lambda x : 1/(2*np.pi*sig**2)**0.5*np.exp(-0.5*(x-mu)**2/sig**2)\n",
    "\n",
    "reload(a1)\n",
    "\n",
    "kuip_P,kuip_P_s = np.zeros(len(n)),np.zeros(len(n)) \n",
    "\n",
    "filename = 'randomnumbers.txt'\n",
    "url = 'https://home.strw.leidenuniv.nl/~nobels/coursedata/'\n",
    "\n",
    "if not os.path.isfile(filename):\n",
    "    print(f'File not found, downloading {filename}')\n",
    "    os.system('wget '+url+filename)\n",
    "rand_num = np.genfromtxt(filename,delimiter=' ',skip_footer=1)\n",
    "N = len(random_num)\n",
    "rand_bm = a1.box_muller(rng.rand_num(N),rng.rand_num(N),mu,sig)\n",
    "\n",
    "n = np.logspace(np.log10(10),np.log10(1000),dtype=int)\n",
    "#test_P,test_D = np.zeros((10,len(n)),dtype=list),np.zeros((10,len(n)),dtype=list)\n",
    "# Applying KS-test \n",
    "for i in tqdm(range(10)):\n",
    "    for j in range(len(n)):\n",
    "        rand_num_select = np.array(rand_num[:n[j],i])\n",
    "        rand_bm_select = np.array (rand_bm[0][:n[j]])\n",
    "        #print(len(rand_num_select),len(rand_bm_select))\n",
    "        test_D[i][j],test_P[i][j] = a1.Ks_test_2s(rand_bm_select,rand_num_select,mu,sig)\n",
    "        \n",
    "# Plotting\n",
    "#plt.plot(n,kuip_P_s,label='Scipy (KS)',color = 'g')\n",
    "for i in range(10):\n",
    "    plt.plot(n,test_P[i],label = i)\n",
    "plt.title('Scipy KS-Test and self-written Kuiper-Test')\n",
    "plt.ylabel('$P(z)$')\n",
    "plt.xlabel('N')\n",
    "plt.xscale('log')\n",
    "plt.legend(loc=2, bbox_to_anchor=(1,1))\n",
    "#plt.savefig('plots/1g.png')\n",
    "#plt.close()\n",
    "plt.show()\n",
    "print('Generated plots/1g.png')"
   ]
  },
  {
   "cell_type": "code",
   "execution_count": 41,
   "metadata": {},
   "outputs": [
    {
     "name": "stdout",
     "output_type": "stream",
     "text": [
      "99999\n",
      "(99999,)\n"
     ]
    },
    {
     "data": {
      "image/png": "[encoded data removed]",
      "text/plain": [
       "<Figure size 432x288 with 1 Axes>"
      ]
     },
     "metadata": {
      "needs_background": "light"
     },
     "output_type": "display_data"
    }
   ],
   "source": [
    "print(len(rand_num))\n",
    "print(np.array(rand_bm[0]).shape)\n",
    "plt.plot(random_num)\n",
    "plt.show()"
   ]
  },
  {
   "cell_type": "code",
   "execution_count": 51,
   "metadata": {},
   "outputs": [
    {
     "name": "stdout",
     "output_type": "stream",
     "text": [
      "3\n"
     ]
    }
   ],
   "source": [
    "x = np.array([1,2,3,4,5,6])\n",
    "print(len(x[x<=3]))"
   ]
  },
  {
   "cell_type": "code",
   "execution_count": null,
   "metadata": {},
   "outputs": [],
   "source": []
  }
 ],
 "metadata": {
  "kernelspec": {
   "display_name": "Python 3",
   "language": "python",
   "name": "python3"
  },
  "language_info": {
   "codemirror_mode": {
    "name": "ipython",
    "version": 3
   },
   "file_extension": ".py",
   "mimetype": "text/x-python",
   "name": "python",
   "nbconvert_exporter": "python",
   "pygments_lexer": "ipython3",
   "version": "3.7.3"
  }
 },
 "nbformat": 4,
 "nbformat_minor": 2
}
