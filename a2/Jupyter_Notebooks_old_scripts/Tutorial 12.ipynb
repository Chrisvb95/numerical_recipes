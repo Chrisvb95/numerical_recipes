{
 "cells": [
  {
   "cell_type": "code",
   "execution_count": 7,
   "metadata": {},
   "outputs": [],
   "source": [
    "import numpy as np\n",
    "from matplotlib import pyplot as plt"
   ]
  },
  {
   "cell_type": "markdown",
   "metadata": {},
   "source": [
    "# Tutorial 12\n",
    "\n",
    "### 1. Bulge and disk stars \n",
    "a. Plot the data points according to their cartesian coordinates. What is the value of m? What is the value of n? "
   ]
  },
  {
   "cell_type": "code",
   "execution_count": 11,
   "metadata": {},
   "outputs": [
    {
     "data": {
      "image/png": "[encoded data removed]",
      "text/plain": [
       "<Figure size 432x288 with 1 Axes>"
      ]
     },
     "metadata": {
      "needs_background": "light"
     },
     "output_type": "display_data"
    },
    {
     "name": "stdout",
     "output_type": "stream",
     "text": [
      "The number of stars in this data set is 442.\n"
     ]
    }
   ],
   "source": [
    "filename = 'dataset_LATTE.txt'\n",
    "data = np.genfromtxt(filename)\n",
    "plt.scatter(data[:,0],data[:,1],marker='.')\n",
    "plt.xlabel('X')\n",
    "plt.ylabel('Y')\n",
    "plt.show()\n",
    "print(f'The number of stars in this data set is {len(data)}.')"
   ]
  },
  {
   "cell_type": "markdown",
   "metadata": {},
   "source": [
    "   n - Is the number of features. For this case that is 2 (X,Y|). \n",
    "    \n",
    "    \n",
    "   m - Is the number of training examples. For this case that is 442."
   ]
  },
  {
   "cell_type": "markdown",
   "metadata": {},
   "source": [
    "b. Concatenate the feature in a matrix with dimensions $m\\ *\\ n$. Then apply feature scaling to have feature with approximately mean 0 and standard deviation 1. "
   ]
  },
  {
   "cell_type": "code",
   "execution_count": 22,
   "metadata": {},
   "outputs": [
    {
     "data": {
      "image/png": "[encoded data removed]",
      "text/plain": [
       "<Figure size 432x288 with 1 Axes>"
      ]
     },
     "metadata": {
      "needs_background": "light"
     },
     "output_type": "display_data"
    }
   ],
   "source": [
    "feature = data[:,:2]\n",
    "feature = feature/np.mean(feature)\n",
    "feature[:,0] = (feature[:,0]-np.mean(feature[:,0]))/(np.max(feature[:,0]-np.min(feature[:,0])))\n",
    "feature[:,1] = (feature[:,1]-np.mean(feature[:,1]))/(np.max(feature[:,1]-np.min(feature[:,1])))\n",
    "plt.scatter(feature[:,0],feature[:,1],marker='.')\n",
    "plt.show()"
   ]
  },
  {
   "cell_type": "markdown",
   "metadata": {},
   "source": [
    "3. Implement gradient descent and test it on a multidimensional polynomial. "
   ]
  },
  {
   "cell_type": "code",
   "execution_count": 149,
   "metadata": {},
   "outputs": [],
   "source": [
    "def predictor(train,weights):\n",
    "    return np.dot(train,weights)\n",
    "\n",
    "def cost_function(prediction,label):\n",
    "    return np.sum((prediction-label)**2)*1/(2*len(prediction))\n",
    "\n",
    "def cost_function_deriv(prediction,train,label):\n",
    "    return np.sum(np.dot(prediction-label,train))/len(train)\n",
    "\n",
    "def grad_desc(train,labels,step = 0.1,max_it=10):\n",
    "    weights = np.random.normal(size = (len(train[0])+1))\n",
    "    weights = [1/3,2,1]\n",
    "    print(weights)\n",
    "    it = 0\n",
    "    loss = 0 \n",
    "\n",
    "    # Adding bias to the training set\n",
    "    bias = np.ones((len(train),1))\n",
    "    train = np.hstack((train,bias))\n",
    "    \n",
    "    for i in range(max_it):\n",
    "        it += 1\n",
    "        print(it)\n",
    "        \n",
    "        h = predictor(train,weights)\n",
    "        cost = cost_function(h,labels)\n",
    "        deriv = cost_function_deriv(h,train,label)\n",
    "        print('Deriv',deriv)\n",
    "        weights = weights - step*deriv\n",
    "        \n",
    "        #print(weights[:3])\n",
    "    #print(f'Loss after {it} iterations is: {loss}.')\n",
    "    \n",
    "    return weights, loss\n",
    "    \n",
    "    "
   ]
  },
  {
   "cell_type": "code",
   "execution_count": 150,
   "metadata": {},
   "outputs": [
    {
     "name": "stdout",
     "output_type": "stream",
     "text": [
      "[0.3333333333333333, 2, 1]\n",
      "1\n",
      "Deriv -12.900011122233334\n",
      "2\n",
      "Deriv 186.27624669120956\n",
      "3\n",
      "Deriv -2689.8302453057972\n",
      "4\n",
      "Deriv 38841.1666923675\n",
      "5\n",
      "Deriv -560866.7062380982\n",
      "6\n",
      "Deriv 8098918.980932372\n",
      "7\n",
      "Deriv -116948444.13150339\n",
      "8\n",
      "Deriv 1688736313.6956387\n",
      "9\n",
      "Deriv -24385363639.276634\n",
      "10\n",
      "Deriv 352124813682.97736\n"
     ]
    }
   ],
   "source": [
    "train = np.linspace([0,0],[10,10],1000)\n",
    "a, b = 2/3, 2\n",
    "label = a*train[:,0]+b*train[:,1]\n",
    "trained = grad_desc(train,label)\n"
   ]
  },
  {
   "cell_type": "code",
   "execution_count": 90,
   "metadata": {},
   "outputs": [
    {
     "data": {
      "text/plain": [
       "array([4, 6])"
      ]
     },
     "execution_count": 90,
     "metadata": {},
     "output_type": "execute_result"
    }
   ],
   "source": [
    "x = np.array([[1,2],[3,4]])\n",
    "x.sum(axis=0)"
   ]
  },
  {
   "cell_type": "code",
   "execution_count": null,
   "metadata": {},
   "outputs": [],
   "source": []
  }
 ],
 "metadata": {
  "kernelspec": {
   "display_name": "Python 3",
   "language": "python",
   "name": "python3"
  },
  "language_info": {
   "codemirror_mode": {
    "name": "ipython",
    "version": 3
   },
   "file_extension": ".py",
   "mimetype": "text/x-python",
   "name": "python",
   "nbconvert_exporter": "python",
   "pygments_lexer": "ipython3",
   "version": "3.7.3"
  }
 },
 "nbformat": 4,
 "nbformat_minor": 2
}
