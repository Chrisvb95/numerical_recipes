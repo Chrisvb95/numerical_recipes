{
 "cells": [
  {
   "cell_type": "code",
   "execution_count": null,
   "metadata": {},
   "outputs": [],
   "source": []
  },
  {
   "cell_type": "code",
   "execution_count": null,
   "metadata": {},
   "outputs": [],
   "source": [
    "def y_calc():\n",
    "    z0 = f(x)\n",
    "    z1 = z0 +h*    \n",
    "    y_index = k*n\n",
    "\n",
    "def bulirsch_stoer():\n",
    "# Integrates fram a to b up to an accuracy of 6 decimals\n",
    "    for k in range(1,10):\n",
    "        n = k*2\n",
    "        T_new = np.zeros((k))\n",
    "        T_new[0] =  "
   ]
  },
  {
   "cell_type": "code",
   "execution_count": 1,
   "metadata": {},
   "outputs": [],
   "source": [
    "def k_calc(h,f,xn,yn):\n",
    "    k1 = h * f(xn,yn)\n",
    "    k2 = h * f(xn+0.5*h,yn+0.5*k1)\n",
    "    k3 = h * f(xn+0.5*h,yn+0.5*k2)\n",
    "    k4 = h * f(xn+h,yn+k3)\n",
    "    return yn+1/6*k1+1/3*k2+1/3*k3+1/6*k4\n",
    "\n",
    "def runge_kutta_4th(f,y0,x0,h):\n",
    "    \n",
    "    for i in range(n):         \n",
    "        yn_new = k_calc(h,f,x0,y0)\n",
    "        \n",
    "    "
   ]
  },
  {
   "cell_type": "code",
   "execution_count": null,
   "metadata": {},
   "outputs": [],
   "source": [
    "def k_cal(h,f,xn,yn):\n",
    "    # Helper function for the runge_kutta method, returns yn+1 and the error estimate\n",
    "    # Runge-Kutta coefficients found by Dormand & Price\n",
    "    c2,a21=1/5,1/5\n",
    "    c3,a31,a32=3/10,3/40,9/40\n",
    "    c4,a41,a42,a41=4/5,44/45,-56/15,32/9\n",
    "    c5,a51,a52,a53,a54=8/9,19372/6561,-25360/2187,64448/6561,-212/729\n",
    "    c6,a61,a62,a63,a64,a65=1,9017/3168,-355/33,46732/5247,49/176,-5103/18656\n",
    "    b1,b2,b3,b4,b5,b6=35/384,0,500/1113,125/192,-2187/6784,11/84\n",
    "    b1s,b2s,b3s,b4s,b5s,b6s=5179/57600,0,7571/16695,393/640,-92097/339200,187/2100\n",
    "    # Calculating K\n",
    "    k1 = h * f(xn,yn)\n",
    "    k2 = h * f(xn+c2*h,yn+a21*k1)\n",
    "    k3 = h * f(xn+c3*h,yn+a31*k1+a32*k2)\n",
    "    k4 = h * f(xn+c4*h,yn+a41*k1+a42*k2+a43*k3)\n",
    "    k5 = h * f(xn+c5*h,yn+a51*k1+a52*k2+a53*k3+a54*k4)\n",
    "    k6 = h * f(xn+c6*h,yn+a61*k1+a62*k2+a63*k3+a64*k4+a65*k5)\n",
    "    # Calculating y and ys\n",
    "    y  = yn+b1*k1+b2*k2+b3*k3+b4*k4+b5*k5+b6*k6\n",
    "    ys = yn+b1s*k1+b2s*k2+b3s*k3+b4s*k4+b5s*k5+b6s*k6\n",
    "    return y,y-ys\n",
    "#end k_cal()"
   ]
  }
 ],
 "metadata": {
  "kernelspec": {
   "display_name": "Python 3",
   "language": "python",
   "name": "python3"
  },
  "language_info": {
   "codemirror_mode": {
    "name": "ipython",
    "version": 3
   },
   "file_extension": ".py",
   "mimetype": "text/x-python",
   "name": "python",
   "nbconvert_exporter": "python",
   "pygments_lexer": "ipython3",
   "version": "3.7.3"
  }
 },
 "nbformat": 4,
 "nbformat_minor": 2
}
