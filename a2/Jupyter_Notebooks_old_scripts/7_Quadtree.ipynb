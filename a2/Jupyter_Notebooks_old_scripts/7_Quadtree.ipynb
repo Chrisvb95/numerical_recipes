{
 "cells": [
  {
   "cell_type": "markdown",
   "metadata": {},
   "source": [
    "# Building a Quadtree\n",
    "\n",
    "Download a file containing 1200 particle masses and positions: (see link). Considering only the $x$ and $y$ coordinates of these particles (between 0 and 150), construct a Barnes-Hut quadtree with at most 12 particles per leaf node. You can treat the masses and positions as dimensionless and use G=1. Plot the particles and indicate which particles are in which node (for example by drawing squares on the particle distribution like in the lecture). Calculate the n = 0 multipole moment of each leaf and then recursively for each node in the tree. Print the n = 0 multiple moment for the leaf node containing the particle with index i = 100 and that of all its parent nodes up to and including the root node. "
   ]
  },
  {
   "cell_type": "code",
   "execution_count": null,
   "metadata": {},
   "outputs": [],
   "source": []
  }
 ],
 "metadata": {
  "kernelspec": {
   "display_name": "Python 3",
   "language": "python",
   "name": "python3"
  },
  "language_info": {
   "codemirror_mode": {
    "name": "ipython",
    "version": 3
   },
   "file_extension": ".py",
   "mimetype": "text/x-python",
   "name": "python",
   "nbconvert_exporter": "python",
   "pygments_lexer": "ipython3",
   "version": "3.7.3"
  }
 },
 "nbformat": 4,
 "nbformat_minor": 2
}
