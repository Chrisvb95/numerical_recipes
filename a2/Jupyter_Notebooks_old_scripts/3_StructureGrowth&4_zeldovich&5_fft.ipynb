{
 "cells": [
  {
   "cell_type": "code",
   "execution_count": 1,
   "metadata": {},
   "outputs": [
    {
     "name": "stdout",
     "output_type": "stream",
     "text": [
      "Original seed: 42\n"
     ]
    }
   ],
   "source": [
    "import numpy as np\n",
    "import NR_a2_1_utils as utils1\n",
    "import NR_a2_3_utils as utils3\n",
    "from matplotlib import pyplot as plt\n",
    "from importlib import reload\n",
    "from scipy import stats\n",
    "reload(utils1)\n",
    "reload(utils3)\n",
    "seed = 42\n",
    "print('Original seed:',seed)\n",
    "rng = utils1.rng(seed)\n",
    "from tqdm import tqdm"
   ]
  },
  {
   "cell_type": "markdown",
   "metadata": {},
   "source": [
    "# 3. Linear Structure growth"
   ]
  },
  {
   "cell_type": "code",
   "execution_count": 2,
   "metadata": {},
   "outputs": [],
   "source": [
    "#reload(utils3)\n",
    "#ode = lambda y,t : -y\n",
    "#ode_int = utils3.runge_kutta(0,10,ode,10)\n",
    "#print(ode_int)\n",
    "#reload(utils3)\n",
    "#ode = lambda y,t : -y*t\n",
    "#ode_int = utils3.runge_kutta(0,10,ode,10)\n",
    "#print(ode_int)"
   ]
  },
  {
   "cell_type": "code",
   "execution_count": 3,
   "metadata": {},
   "outputs": [
    {
     "name": "stdout",
     "output_type": "stream",
     "text": [
      "case1: 179759.9884607269,case2: 606.5532637765943, case3: 179881.2991134862\n"
     ]
    }
   ],
   "source": [
    "reload(utils3)\n",
    "f = lambda t,x1,x2: x2\n",
    "g = lambda t,x1,x2: -4/(3*t)*x2 + 2/(3*t**2)*x1\n",
    "case1,yt1 = utils3.runge_kutta2nd(3,2,1,1000,f,g)\n",
    "case2,yt2 = utils3.runge_kutta2nd(10,-10,1,1000,f,g)\n",
    "case3,yt3 = utils3.runge_kutta2nd(5,0,1,1000,f,g)\n",
    "print(f'case1: {case1},case2: {case2}, case3: {case3}')"
   ]
  },
  {
   "cell_type": "code",
   "execution_count": 4,
   "metadata": {},
   "outputs": [],
   "source": [
    "reload(utils3)\n",
    "f = lambda t,x1,x2 : x2\n",
    "g = lambda t,x1,x2 : x1*6-x2"
   ]
  },
  {
   "cell_type": "code",
   "execution_count": 5,
   "metadata": {},
   "outputs": [
    {
     "data": {
      "image/png": "[encoded data removed]",
      "text/plain": [
       "<Figure size 432x288 with 1 Axes>"
      ]
     },
     "metadata": {
      "needs_background": "light"
     },
     "output_type": "display_data"
    }
   ],
   "source": [
    "#D = lambda t,c1,c2 : c1*t**(2/3)+c2/t\n",
    "D1 = lambda t : 3*t**(2/3)\n",
    "D2 = lambda t : 10/t\n",
    "D3 = lambda t : (3*t**(5/3)+2)/t\n",
    "t = np.arange(1,1000+0.01,0.01)\n",
    "plt.plot(t,yt1,label='Case 1 - Numerical')\n",
    "plt.plot(t,D1(t),linestyle='--',label='Case 1 - Analytical')\n",
    "plt.plot(t,yt2,label='Case 2 - Numerical')\n",
    "plt.plot(t,D2(t),linestyle='--',label='Case 2 - Analytical')\n",
    "plt.plot(t,yt3,label='Case 3 - Numerical')\n",
    "plt.plot(t,D3(t),linestyle='--',label='Case 3 - Analytical')\n",
    "plt.legend(frameon=False)\n",
    "plt.xlabel('t')\n",
    "plt.ylabel('D(t)')\n",
    "plt.title('Linear Structure growth - Numerical and Analytical')\n",
    "plt.xscale('log')\n",
    "plt.yscale('log')"
   ]
  },
  {
   "cell_type": "markdown",
   "metadata": {},
   "source": [
    "# 4. Zeldovich Approximation\n",
    "\n",
    "Integrate up to $z=50$: \n",
    "\n",
    "$D(z) = \\frac{5\\Omega_mH_0^2}{2}H(z)\\int_z^\\infty\\frac{1+z'}{H^3(z')}dz'$\n",
    "\n",
    "Where: \n",
    "\n",
    "$H(z)^2 = H^2_0(\\Omega_m(1+z)^3+\\Omega_\\Lambda)$\n"
   ]
  },
  {
   "cell_type": "markdown",
   "metadata": {},
   "source": [
    "In order to avoid having to integrate up to $\\infty$ we will be substituting $z = \\frac{1}{a} -1$. This gives us the following equations: \n",
    "\n",
    "\n",
    "$ D(a) = \\frac{5\\Omega_mH_0^2}{2}H(a)\\int_0^a\\frac{1}{a^3H^3(a')}da'$\n",
    "\n",
    "Where: \n",
    "\n",
    "$H(a) = H_0\\sqrt{\\frac{\\Omega_m}{a^3}+\\Omega_\\Lambda}$"
   ]
  },
  {
   "cell_type": "markdown",
   "metadata": {},
   "source": [
    "$\\dot{D}(t) = \\frac{dD}{da}\\dot{a}$\n",
    "\n",
    "\n",
    "$\\frac{dD}{da} = \\frac{5\\Omega_mH_0^2}{2}[\\frac{dH(a)}{da}I+\\frac{dI}{da}H(a)]$\n",
    "\n",
    "Where: $I = \\int^a_0\\frac{1}{a^3H(a)^3}da$\n",
    "\n",
    "and $\\dot{a} = \\frac{H_0}{\\sqrt{a}}$\n",
    "\n",
    "So we get: \n",
    "\n",
    "$\\dot{D}(a) = \\frac{5\\Omega_mH_0^3}{2\\sqrt{a}}[\\frac{-3\\Omega_m}{2\\sqrt{a^5(\\Omega_m+\\Omega_\\Lambda a^3)}}\\int^a_0\\frac{1}{a^3H(a)^3}da+\\frac{1}{a^3H(a)^3}H_0\\sqrt{\\frac{\\Omega_m}{a^3}+\\Omega_\\Lambda}]$"
   ]
  },
  {
   "cell_type": "code",
   "execution_count": 30,
   "metadata": {},
   "outputs": [
    {
     "name": "stdout",
     "output_type": "stream",
     "text": [
      "0.01961021426458253\n",
      "1239.0147426693459\n",
      "[499.95564708]\n"
     ]
    }
   ],
   "source": [
    "omega_m = 0.3\n",
    "omega_lambda = 0.7\n",
    "H0 = 70 # km/s/Mpc\n",
    "\n",
    "H = lambda a : H0*((omega_m*(a)**(-3)+omega_lambda))**0.5\n",
    "D_prefactor = lambda a : (5*omega_m*H0**2)/2*H(a)\n",
    "dIda = lambda a: 1/(a*H(a))**3\n",
    "I = lambda a: utils1.romber_int(dIda,1e-12,a)\n",
    "a = 1/51\n",
    "D = lambda a: D_prefactor(a) * I(a)\n",
    "print(D(a))\n",
    "\n",
    "pre_fact = lambda a: 5*omega_m*H0**3/(2*a**(0.5)) \n",
    "dHda = lambda a: -3*omega_m/(2*(a**5*(omega_m+omega_lambda*a**3))**0.5)\n",
    "dDdt = pre_fact(a)*(dHda(a)*I(a)+dIda(a)*H(a))\n",
    "print(dDdt)\n",
    "\n",
    "dDdt_numerical = utils1.ridders_diff(D,np.array([a]))*H0/(a)**0.5\n",
    "print(dDdt_numerical)"
   ]
  },
  {
   "cell_type": "code",
   "execution_count": 9,
   "metadata": {},
   "outputs": [
    {
     "data": {
      "text/plain": [
       "<module 'NR_a2_1_utils' from '/data1/MRP1/numerical_recipes/a2/Jupyter_Notebooks_old_scripts/NR_a2_1_utils.py'>"
      ]
     },
     "execution_count": 9,
     "metadata": {},
     "output_type": "execute_result"
    }
   ],
   "source": [
    "reload(utils1)\n",
    "#dHda = lambda a: -3*omega_m/(2*(a**5*(omega_m+omega_lambda*a**3))**0.5)\n",
    "#dDdt = lambda a: utils1.romber_int(D_int,1e-12,a)*5/2*omega_m*H0**3*dHda(a)*H0*a**-0.5\n",
    "#dDdt_analytic = dDdt(a)\n",
    "#dDdt_numerical = utils1.ridders_diff(D,np.array([a]))\n",
    "\n",
    "#print(dDdt_analytic,dDdt_numerical)"
   ]
  },
  {
   "cell_type": "code",
   "execution_count": 15,
   "metadata": {},
   "outputs": [
    {
     "name": "stdout",
     "output_type": "stream",
     "text": [
      "-0.019269322170486502\n"
     ]
    }
   ],
   "source": []
  },
  {
   "cell_type": "code",
   "execution_count": 165,
   "metadata": {},
   "outputs": [
    {
     "name": "stderr",
     "output_type": "stream",
     "text": [
      "/home/vbuchem/Documents/numerical_recipes/a2/Jupyter_Notebooks_old_scripts/NR_a2_1_utils.py:16: RuntimeWarning: overflow encountered in long_scalars\n",
      "  self.state = self.a*(x&(2**32-1))+(x>>32)\n"
     ]
    },
    {
     "data": {
      "text/plain": [
       "<matplotlib.image.AxesImage at 0x7f74d954b0f0>"
      ]
     },
     "execution_count": 165,
     "metadata": {},
     "output_type": "execute_result"
    },
    {
     "data": {
      "image/png": "[encoded data removed]",
      "text/plain": [
       "<Figure size 432x288 with 1 Axes>"
      ]
     },
     "metadata": {
      "needs_background": "light"
     },
     "output_type": "display_data"
    }
   ],
   "source": [
    "reload(utils3)\n",
    "ck,Sx,Sy = utils3.random_field_generator_zeld(64,rng)\n",
    "#ck = np.fft.ifft2(ck)\n",
    "plt.imshow(np.abs(np.fft.ifft2(ck)))"
   ]
  },
  {
   "cell_type": "code",
   "execution_count": 166,
   "metadata": {},
   "outputs": [],
   "source": [
    "N = 64\n",
    "q = np.zeros((N,N,2))\n",
    "for i in range(len(q)):\n",
    "    for j in range(len(q)):\n",
    "        q[i][j] = i,j\n",
    "Sx = np.fft.ifft2(Sx).real*N\n",
    "Sy = np.fft.ifft2(Sy).real*N"
   ]
  },
  {
   "cell_type": "code",
   "execution_count": 167,
   "metadata": {},
   "outputs": [
    {
     "name": "stderr",
     "output_type": "stream",
     "text": [
      "100%|██████████| 90/90 [00:12<00:00,  6.37it/s]\n"
     ]
    }
   ],
   "source": [
    "x = np.zeros((N,N,2))\n",
    "a = np.linspace(0.0025,1,90)\n",
    "Da = np.zeros(len(a))\n",
    "\n",
    "for k in tqdm(range(0,90)):\n",
    "    Da[k] = D(a[k])\n",
    "    DSx = Da[k]*Sx\n",
    "    DSy = Da[k]*Sy\n",
    "    x[:,:,0] = (q[:,:,0]+DSx)%N\n",
    "    x[:,:,1] = (q[:,:,1]+DSy)%N\n",
    "            \n",
    "    plt.scatter(x[:,:,0],x[:,:,1],marker='.')\n",
    "    plt.title('2D N-body simulation')\n",
    "    plt.ylabel('Mpc')\n",
    "    plt.xlabel(f'a = {np.round(a[k],3)}')\n",
    "    plt.savefig('./plots/snap%04d.png'%k)\n",
    "    plt.close()"
   ]
  },
  {
   "cell_type": "code",
   "execution_count": 153,
   "metadata": {},
   "outputs": [],
   "source": [
    "test = np.zeros((3,3,2))\n",
    "#testy = np.zeros((3,3))\n",
    "test_q = np.zeros((3,3,2))\n",
    "test_DSx = np.ones((3,3))*2\n",
    "test_DSy = np.ones((3,3))*1\n",
    "for i in range(len(test_q)):\n",
    "    for j in range(len(test_q)):\n",
    "        test_q[i][j] = i,j\n",
    "\n",
    "test[:,:,0] = test_q[:,:,0]+test_DSx\n",
    "test[:,:,1] = test_q[:,:,1]+test_DSy\n",
    "\n",
    "#print(test_q)\n",
    "#print(test_DSx)\n",
    "#print(test)\n",
    "\n",
    "#print(test_q[:,:,0].shape)\n",
    "#print(test_DSx.shape)"
   ]
  },
  {
   "cell_type": "code",
   "execution_count": 154,
   "metadata": {},
   "outputs": [
    {
     "name": "stderr",
     "output_type": "stream",
     "text": [
      "/home/vbuchem/Documents/numerical_recipes/a2/Jupyter_Notebooks_old_scripts/NR_a2_1_utils.py:16: RuntimeWarning: overflow encountered in long_scalars\n",
      "  self.state = self.a*(x&(2**32-1))+(x>>32)\n"
     ]
    }
   ],
   "source": [
    "reload(utils3)\n",
    "omega_m = 0.3\n",
    "omega_lambda = 0.7\n",
    "H0 = 70 # km/s/Mpc\n",
    "reload(utils3)\n",
    "ck,Sx,Sy,Sz = utils3.random_field_generator_zeld_3D(64,rng)\n"
   ]
  },
  {
   "cell_type": "code",
   "execution_count": 155,
   "metadata": {},
   "outputs": [],
   "source": [
    "#print(np.fft.ifftn(Sx[22]))\n",
    "#print(np.fft.ifftn(Sz[0]))\n",
    "#ck = np.fft.ifft2(ck)"
   ]
  },
  {
   "cell_type": "code",
   "execution_count": 162,
   "metadata": {},
   "outputs": [],
   "source": [
    "N = 64\n",
    "q = np.zeros((N,N,N,3))\n",
    "for i in range(N):\n",
    "    for j in range(N):\n",
    "        for k in range(N):\n",
    "            q[i][j][k] = i,j,k\n",
    "'''\n",
    "qxy = q[(x[:,:,:,2]>31.5) & (q[:,:,:,2]<=32.5)]\n",
    "qxz = q[(x[:,:,:,1]>31.5) & (q[:,:,:,1]<=32.5)]\n",
    "qyz = q[(x[:,:,:,0]>31.5) & (q[:,:,:,0]<=32.5)]\n",
    "\n",
    "plt.scatter(qxy[:,0],qxy[:,1],marker='.')\n",
    "plt.show()\n",
    "\n",
    "plt.scatter(qxz[:,0],qxz[:,2],marker='.')\n",
    "plt.show()\n",
    "\n",
    "plt.scatter(qyz[:,1],qyz[:,2],marker='.')\n",
    "plt.show()\n",
    "'''\n",
    "Sx = np.fft.ifftn(Sx).real*N*1.5\n",
    "Sy = np.fft.ifftn(Sy).real*N*1.5\n",
    "Sz = np.fft.ifftn(Sz).real*N*1.5"
   ]
  },
  {
   "cell_type": "code",
   "execution_count": 164,
   "metadata": {},
   "outputs": [
    {
     "name": "stderr",
     "output_type": "stream",
     "text": [
      "100%|██████████| 90/90 [00:34<00:00,  2.77it/s]\n"
     ]
    }
   ],
   "source": [
    "x = np.zeros((N,N,N,3))\n",
    "\n",
    "mask_x = (x[:,:,:,0] > 31.5) & (x[:,:,:,0] <= 32.5) \n",
    "#mask_y = (x[:,:,:,1] > 31.5) & (x[:,:,:,1] <= 32.5) \n",
    "#mask_z = (x[:,:,:,2] > 31.5) & (x[:,:,:,2] <= 32.5) \n",
    "\n",
    "a = np.linspace(0.0025,1,90)\n",
    "Da = np.zeros(len(a))\n",
    "\n",
    "for k in tqdm(range(0,90)):\n",
    "#for k in tqdm(range(0,1)):\n",
    "    Da[k] = D(a[k])\n",
    "    DSx = Da[k]*Sx\n",
    "    DSy = Da[k]*Sy\n",
    "    DSz = Da[k]*Sz\n",
    "    \n",
    "    x[:,:,:,0] = (q[:,:,:,0]+DSx)%N\n",
    "    x[:,:,:,1] = (q[:,:,:,1]+DSy)%N\n",
    "    x[:,:,:,2] = (q[:,:,:,2]+DSz)%N\n",
    "        \n",
    "    xy = x[(x[:,:,:,2]>31.5) & (x[:,:,:,2]<=32.5)]\n",
    "    xz = x[(x[:,:,:,1]>31.5) & (x[:,:,:,1]<=32.5)]\n",
    "    yz = x[(x[:,:,:,0]>31.5) & (x[:,:,:,0]<=32.5)]\n",
    "    \n",
    "    plt.scatter(xy[:,0],xy[:,1],marker='.')\n",
    "    plt.title('3D N-body simulation: xy')\n",
    "    plt.ylabel('Mpc')\n",
    "    plt.xlabel(f'a = {np.round(a[k],3)}')\n",
    "    plt.savefig('./plots/3Dxy_snap%04d.png'%k)\n",
    "    plt.close()\n",
    "    \n",
    "    plt.scatter(xz[:,0],xz[:,2],marker='.')\n",
    "    plt.title('3D N-body simulation: xz')\n",
    "    plt.ylabel('Mpc')\n",
    "    plt.xlabel(f'a = {np.round(a[k],3)}')\n",
    "    plt.savefig('./plots/3Dxz_snap%04d.png'%k)\n",
    "    plt.close()\n",
    "    \n",
    "    plt.scatter(yz[:,1],yz[:,2],marker='.')\n",
    "    plt.title('3D N-body simulation: yz')\n",
    "    plt.ylabel('Mpc')\n",
    "    plt.xlabel(f'a = {np.round(a[k],3)}')\n",
    "    plt.savefig('./plots/3Dyz_snap%04d.png'%k)\n",
    "    plt.close()\n",
    "\n",
    "    #plt.scatter(q[:,:,0],q[:,:,1],marker='.')\n",
    "#plt.show()\n"
   ]
  },
  {
   "cell_type": "code",
   "execution_count": null,
   "metadata": {},
   "outputs": [],
   "source": []
  },
  {
   "cell_type": "markdown",
   "metadata": {},
   "source": [
    "# 5.Mass assignment schemes"
   ]
  },
  {
   "cell_type": "code",
   "execution_count": 32,
   "metadata": {},
   "outputs": [],
   "source": [
    "def bit_reverser64(n,width=6):\n",
    "    b = '{:0{width}b}'.format(n, width=width)\n",
    "    return int(b[::-1], 2)"
   ]
  },
  {
   "cell_type": "code",
   "execution_count": 33,
   "metadata": {},
   "outputs": [],
   "source": [
    "a = np.arange(0,64,1)\n",
    "#temp_a = np.zeros(0,8,1)\n",
    "for i in range(len(a)):\n",
    "    a[i] = bit_reverser64(a[i])\n"
   ]
  },
  {
   "cell_type": "code",
   "execution_count": 34,
   "metadata": {},
   "outputs": [
    {
     "name": "stdout",
     "output_type": "stream",
     "text": [
      "[28.+0.j         -4.+9.65685425j -4.+4.j         -4.+1.65685425j\n",
      " -4.+0.j         -4.-1.65685425j -4.-4.j         -4.-9.65685425j]\n",
      "[ 1.+0.j -4.+0.j -2.+0.j -4.+0.j -1.+0.j -4.+0.j  1.-3.j -4.+0.j]\n",
      "[2 2]\n",
      "[1 2 3]\n"
     ]
    }
   ],
   "source": [
    "a = np.arange(0,8,1)\n",
    "#print(a)\n",
    "print(np.fft.fft(a))\n",
    "\n",
    "for i in range(len(a)):\n",
    "    a[i] = bit_reverser64(a[i],width=3)\n",
    "N = 8\n",
    "x = np.zeros(len(a),dtype=complex)\n",
    "\n",
    "for j in range(1,np.int(np.log2(N))+1):\n",
    "    Nj = 2**j\n",
    "    for k in range(0,Nj-1):\n",
    "        for i in range(k,N//Nj):\n",
    "            m = i*Nj\n",
    "            x[m] = a[m] + np.exp(2j*np.pi*k/Nj)*a[m+Nj//2]\n",
    "            x[m+Nj//2] = a[m] - np.exp(2j*np.pi*k/Nj)*a[m+Nj//2]\n",
    "print(x)\n",
    "\n",
    "x = np.array([[1,2,3],[1,2,3]])\n",
    "print(x[:,1])\n",
    "print(x[1])"
   ]
  },
  {
   "cell_type": "code",
   "execution_count": 42,
   "metadata": {},
   "outputs": [],
   "source": [
    "def fft1D(x,Nj,start=0,step=1):\n",
    "    #if Nj%2 > 0:\n",
    "    #    raise ValueError('Size of input array must be a power of 2')\n",
    "    if Nj == 1: \n",
    "        return [x[start]]\n",
    "    new_step = step*2\n",
    "    hNj = Nj//2\n",
    "    rs = fft1D(x,hNj,start,new_step)+fft1D(x,hNj,start+step,new_step)\n",
    "    for i in range(hNj):\n",
    "        rs[i],rs[i+hNj]=rs[i]+np.exp(-2j*np.pi*i/Nj)*rs[i+hNj],rs[i]-np.exp(-2j*np.pi*i/Nj)*rs[i+hNj]\n",
    "    return rs\n",
    "\n",
    "def fft2D(x):\n",
    "    if Nj%2 > 0:\n",
    "        raise ValueError('Size of input array must be a power of 2')\n",
    "    x = np.array(x,dtype=complex)\n",
    "    if len(x.shape) == 2:\n",
    "        for i in range(x.shape[1]):\n",
    "            x[:,i] = fft1D(x[:,i],len(x[1]))\n",
    "        for j in range(x.shape[0]):\n",
    "            x[j] = fft1D(x[j],len(x[0]))\n",
    "        return x\n",
    "\n",
    "def fft3D(x):\n",
    "    if Nj%2 > 0:\n",
    "        raise ValueError('Size of input array must be a power of 2')\n",
    "    x = np.array(x,dtype=complex)\n",
    "    for i in range(x.shape[1]):\n",
    "        x[:,i] = fft2D(x[:,i],len(x[1]))\n",
    "    for j in range(x.shape[0]):\n",
    "        x[j] = fft2D(x[j],len(x[0]))\n",
    "    return x\n",
    "    \n",
    "    "
   ]
  },
  {
   "cell_type": "code",
   "execution_count": 43,
   "metadata": {},
   "outputs": [
    {
     "name": "stdout",
     "output_type": "stream",
     "text": [
      "8\n",
      "[(28+0j), (-4+9.65685424949238j), (-4+4j), (-4+1.6568542494923797j), (-4+0j), (-3.9999999999999996-1.6568542494923797j), (-3.9999999999999996-4j), (-3.9999999999999987-9.65685424949238j)]\n",
      "[28.+0.j         -4.+9.65685425j -4.+4.j         -4.+1.65685425j\n",
      " -4.+0.j         -4.-1.65685425j -4.-4.j         -4.-9.65685425j]\n"
     ]
    }
   ],
   "source": [
    "np.random.seed(42)\n",
    "a1 = np.arange(0,8,1)\n",
    "print(len(a1))\n",
    "print(fft1D(a1,len(a1)))\n",
    "print(np.fft.fft(a1))\n",
    "a2 = np.random.normal(size=(8,8))\n",
    "#print(fft2D(a2))\n",
    "#print(np.fft.fft2(a2))\n",
    "a3 = np.random.normal(size=(8,8,8))\n",
    "#print(fft3D(a3))\n",
    "#print(np.fft.fftn(a3))"
   ]
  },
  {
   "cell_type": "code",
   "execution_count": null,
   "metadata": {},
   "outputs": [],
   "source": []
  },
  {
   "cell_type": "code",
   "execution_count": null,
   "metadata": {},
   "outputs": [],
   "source": []
  }
 ],
 "metadata": {
  "kernelspec": {
   "display_name": "Python 3",
   "language": "python",
   "name": "python3"
  },
  "language_info": {
   "codemirror_mode": {
    "name": "ipython",
    "version": 3
   },
   "file_extension": ".py",
   "mimetype": "text/x-python",
   "name": "python",
   "nbconvert_exporter": "python",
   "pygments_lexer": "ipython3",
   "version": "3.7.3"
  }
 },
 "nbformat": 4,
 "nbformat_minor": 2
}
