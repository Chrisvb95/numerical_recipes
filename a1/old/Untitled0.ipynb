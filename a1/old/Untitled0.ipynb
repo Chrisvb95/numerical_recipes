{
 "metadata": {
  "name": "",
  "signature": "sha256:31d9ee5bfe469947fa6050e2543c733895bc4919e56f098c12669aae1a6a059f"
 },
 "nbformat": 3,
 "nbformat_minor": 0,
 "worksheets": []
}