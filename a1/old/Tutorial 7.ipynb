{
 "cells": [
  {
   "cell_type": "code",
   "execution_count": 77,
   "metadata": {},
   "outputs": [],
   "source": [
    "import numpy as np \n",
    "from matplotlib import pyplot as plt\n",
    "np.random.seed(seed=42)"
   ]
  },
  {
   "cell_type": "code",
   "execution_count": 122,
   "metadata": {},
   "outputs": [],
   "source": [
    "def least_squr_fit(func_list, x, y):\n",
    "    \n",
    "    return \n",
    "    \n",
    "    "
   ]
  },
  {
   "cell_type": "code",
   "execution_count": 124,
   "metadata": {},
   "outputs": [
    {
     "name": "stdout",
     "output_type": "stream",
     "text": [
      "1\n",
      "2.0024819109574294 3.9928846402491383 2.0049400206288106\n"
     ]
    }
   ],
   "source": [
    "np.random.seed(seed=42)\n",
    "\n",
    "x = np.linspace(1,4,20)\n",
    "a,b,c = 2,4,2\n",
    "amp = 0.1\n",
    "f = lambda x:a*x+b*x**(0.5)+c \n",
    "N = 10000\n",
    "y = []\n",
    "B_sum = np.zeros((N,3))\n",
    "\n",
    "func_list1 = list((lambda x: x, lambda x: np.sqrt(x), lambda x: 1))\n",
    "print(func_list1[0](1))\n",
    "\n",
    "H = np.transpose(np.array((x,np.sqrt(x),np.ones(len(x)))))\n",
    "B = np.linalg.inv(np.dot(np.transpose(H),H))\n",
    "B = np.dot(B,np.transpose(H))\n",
    "\n",
    "for i in range(N):\n",
    "    y.append(np.random.normal(f(x),amp,x.shape))\n",
    "    B_sum[i] = np.dot(B,y[i])\n",
    "    \n",
    "Ba,Bb,Bc = np.mean(B_sum[:,0]),np.mean(B_sum[:,1]),np.mean(B_sum[:,2])\n",
    "\n",
    "print(Ba,Bb,Bc)"
   ]
  }
 ],
 "metadata": {
  "kernelspec": {
   "display_name": "Python 3",
   "language": "python",
   "name": "python3"
  },
  "language_info": {
   "codemirror_mode": {
    "name": "ipython",
    "version": 3
   },
   "file_extension": ".py",
   "mimetype": "text/x-python",
   "name": "python",
   "nbconvert_exporter": "python",
   "pygments_lexer": "ipython3",
   "version": "3.7.2"
  }
 },
 "nbformat": 4,
 "nbformat_minor": 2
}
