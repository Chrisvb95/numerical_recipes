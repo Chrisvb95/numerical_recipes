{
 "cells": [
  {
   "cell_type": "code",
   "execution_count": 3,
   "metadata": {},
   "outputs": [],
   "source": [
    "import numpy as np"
   ]
  },
  {
   "cell_type": "code",
   "execution_count": 4,
   "metadata": {},
   "outputs": [],
   "source": [
    "def bisec(f,a,b):\n",
    "# Bisection method root-finder\n",
    "    it = 0\n",
    "    while (b-a) > 0.00001:\n",
    "        it += 1\n",
    "        if(f(a)*f(b) < 0):\n",
    "            c = a+(b-a)/2.\n",
    "            if(f(a)*f(c) < 0):\n",
    "                b = c \n",
    "            elif(f(b)*f(c) < 0):\n",
    "                a = c\n",
    "        else:\n",
    "            print('Bad box, cannot perform bisection-method.')\n",
    "            return None\n",
    "    return a,it\n",
    "# end bisec\n",
    "\n",
    "def secant(f,a,b):\n",
    "# Secant method root-finder\n",
    "    it = 0\n",
    "    while np.abs(b-a) > 0.00001: \n",
    "        it += 1\n",
    "        c = -(b-a)/float((f(b)-f(a)))*f(a)+a\n",
    "        a = b\n",
    "        b = c\n",
    "    return a,it \n",
    "# end secant\n",
    "\n",
    "def fals_pos(f,a,b):\n",
    "# False position method root-finder\n",
    "    it = 0\n",
    "    c = 0\n",
    "    while np.abs(c-a)>0.00001 or np.abs(b-c)>0.00001: \n",
    "        it += 1\n",
    "        c = -(b-a)/float((f(b)-f(a)))*f(a)+a\n",
    "        if f(a)*f(c) < 0:\n",
    "            b = c\n",
    "        else:\n",
    "            a = c\n",
    "        #print(a,b)\n",
    "    return c,it \n",
    "# end fals_pos"
   ]
  },
  {
   "cell_type": "code",
   "execution_count": 5,
   "metadata": {
    "scrolled": true
   },
   "outputs": [
    {
     "name": "stdout",
     "output_type": "stream",
     "text": [
      "Bisection: (-1.9073486328125e-06, 21)\n",
      "Secant: (3.595639426169917e-05, 39)\n"
     ]
    }
   ],
   "source": [
    "x0 = bisec(lambda x: x**3,-10,9)\n",
    "print('Bisection:',x0)\n",
    "\n",
    "x0 = secant(lambda x: x**3,-10,9)\n",
    "print('Secant:',x0)"
   ]
  },
  {
   "cell_type": "code",
   "execution_count": null,
   "metadata": {},
   "outputs": [],
   "source": [
    "f1 = lambda x: x**3 - 6*x**2 + 11*x - 6\n",
    "a,b = 2.5,4.\n",
    "x0 = bisec(f1,a,b)\n",
    "#print('Bisection:',x0)\n",
    "x0 = secant(f1,a,b)\n",
    "#print('Secant:',x0)\n",
    "x0 = fals_pos(f1,a,b)\n",
    "#print('False position:',x0)"
   ]
  },
  {
   "cell_type": "code",
   "execution_count": null,
   "metadata": {},
   "outputs": [],
   "source": []
  },
  {
   "cell_type": "code",
   "execution_count": null,
   "metadata": {},
   "outputs": [],
   "source": []
  }
 ],
 "metadata": {
  "kernelspec": {
   "display_name": "Python 3",
   "language": "python",
   "name": "python3"
  },
  "language_info": {
   "codemirror_mode": {
    "name": "ipython",
    "version": 3
   },
   "file_extension": ".py",
   "mimetype": "text/x-python",
   "name": "python",
   "nbconvert_exporter": "python",
   "pygments_lexer": "ipython3",
   "version": "3.7.2"
  }
 },
 "nbformat": 4,
 "nbformat_minor": 2
}
